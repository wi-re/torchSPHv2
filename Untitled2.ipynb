{
 "cells": [
  {
   "cell_type": "code",
   "execution_count": 1,
   "id": "32be905c",
   "metadata": {},
   "outputs": [],
   "source": [
    "import torch"
   ]
  },
  {
   "cell_type": "code",
   "execution_count": 5,
   "id": "9ee06ab9",
   "metadata": {},
   "outputs": [],
   "source": [
    "@torch.jit.script\n",
    "def gradK(dr):    \n",
    "#     d = torch.abs(dr) + 0j\n",
    "    d = torch.complex(torch.abs(dr), torch.zeros_like(dr))\n",
    "    return d.real"
   ]
  },
  {
   "cell_type": "code",
   "execution_count": 6,
   "id": "dc190064",
   "metadata": {},
   "outputs": [
    {
     "data": {
      "text/plain": [
       "tensor([1.0000, 0.9980, 0.9961,  ..., 0.9961, 0.9980, 1.0000])"
      ]
     },
     "execution_count": 6,
     "metadata": {},
     "output_type": "execute_result"
    }
   ],
   "source": [
    "gradK(torch.linspace(-1,1,1023))"
   ]
  },
  {
   "cell_type": "code",
   "execution_count": 7,
   "id": "f7b67199",
   "metadata": {},
   "outputs": [
    {
     "data": {
      "text/plain": [
       "tensor([1.0000, 0.9980, 0.9961,  ..., 0.9961, 0.9980, 1.0000])"
      ]
     },
     "execution_count": 7,
     "metadata": {},
     "output_type": "execute_result"
    }
   ],
   "source": [
    "gradK(torch.linspace(-1,1,1023))"
   ]
  },
  {
   "cell_type": "code",
   "execution_count": null,
   "id": "a5f759a1",
   "metadata": {},
   "outputs": [],
   "source": [
    "\n",
    "    d = torch.complex(dr, torch.zeros_like(dr))"
   ]
  }
 ],
 "metadata": {
  "kernelspec": {
   "display_name": "torch_env",
   "language": "python",
   "name": "torch_env"
  },
  "language_info": {
   "codemirror_mode": {
    "name": "ipython",
    "version": 3
   },
   "file_extension": ".py",
   "mimetype": "text/x-python",
   "name": "python",
   "nbconvert_exporter": "python",
   "pygments_lexer": "ipython3",
   "version": "3.9.13"
  }
 },
 "nbformat": 4,
 "nbformat_minor": 5
}
