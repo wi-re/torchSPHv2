{
 "cells": [
  {
   "cell_type": "code",
   "execution_count": 1,
   "id": "d27e8509",
   "metadata": {},
   "outputs": [],
   "source": [
    "import argparse\n",
    "import os\n",
    "import copy\n",
    "import sys\n",
    "import time\n",
    "from datetime import datetime\n",
    "import torch\n",
    "import random\n",
    "import numpy as np\n",
    "from matplotlib import pyplot as plt\n",
    "from torch import nn, optim\n",
    "from torch.nn import functional as F\n",
    "from torch.utils.data import DataLoader\n",
    "sys.path.append(os.path.dirname(os.path.expanduser('~/dev/pytorchSPH2/Cconv')))\n",
    "from torch_geometric.nn.conv import MessagePassing\n",
    "from torch_geometric.nn.dense.linear import Linear\n",
    "from torch_geometric.typing import Adj, OptPairTensor, OptTensor, Size\n",
    "from torch_geometric.utils.repeat import repeat\n",
    "import torch\n",
    "from torch import Tensor, nn\n",
    "from torch.nn import Parameter\n",
    "\n",
    "from Cconv.cutlass import cutlass\n",
    "\n",
    "import math\n",
    "import numpy as np\n",
    "from typing import Any\n",
    "from typing import List, Tuple, Union\n",
    "from torch_sparse import SparseTensor\n",
    "\n",
    "def uniform(size: int, value: Any):\n",
    "    if isinstance(value, Tensor):\n",
    "        bound = 1.0 / math.sqrt(size)\n",
    "        value.data.uniform_(-bound, bound)\n",
    "    else:\n",
    "        for v in value.parameters() if hasattr(value, 'parameters') else []:\n",
    "            uniform(size, v)\n",
    "        for v in value.buffers() if hasattr(value, 'buffers') else []:\n",
    "            uniform(size, v)\n",
    "     \n",
    "def constant(value: Any, fill_value: float):\n",
    "    if isinstance(value, Tensor):\n",
    "        value.data.fill_(fill_value)\n",
    "    else:\n",
    "        for v in value.parameters() if hasattr(value, 'parameters') else []:\n",
    "            constant(v, fill_value)\n",
    "        for v in value.buffers() if hasattr(value, 'buffers') else []:\n",
    "            constant(v, fill_value)\n",
    "def zeros(value: Any):\n",
    "    constant(value, 0.)\n",
    "    \n",
    "basestring = (str, bytes)\n",
    "def is_list_of_strings(lst):\n",
    "        if lst and isinstance(lst, list):\n",
    "            return all(isinstance(elem, basestring) for elem in lst)\n",
    "        else:\n",
    "            return False\n",
    "from Cconv.cutlass import *\n",
    "import scipy.optimize"
   ]
  },
  {
   "cell_type": "code",
   "execution_count": 2,
   "id": "a4ad5d2e",
   "metadata": {},
   "outputs": [],
   "source": [
    "\n",
    "from Cconv.plotting import *\n",
    "plt.style.use('dark_background')\n",
    "from tqdm.notebook import trange, tqdm"
   ]
  },
  {
   "cell_type": "code",
   "execution_count": 3,
   "id": "42fdeaa9",
   "metadata": {},
   "outputs": [
    {
     "name": "stderr",
     "output_type": "stream",
     "text": [
      "/home/winchenbach/anaconda3/envs/gns/lib/python3.7/importlib/_bootstrap.py:219: RuntimeWarning: numpy.ndarray size changed, may indicate binary incompatibility. Expected 80 from C header, got 88 from PyObject\n",
      "  return f(*args, **kwds)\n",
      "/home/winchenbach/anaconda3/envs/gns/lib/python3.7/site-packages/h5py/__init__.py:46: DeprecationWarning: `np.typeDict` is a deprecated alias for `np.sctypeDict`.\n",
      "  from ._conv import register_converters as _register_converters\n"
     ]
    }
   ],
   "source": [
    "from Cconv.datautils import *\n",
    "from tqdm import trange, tqdm"
   ]
  },
  {
   "cell_type": "code",
   "execution_count": 4,
   "id": "5b6cce0f",
   "metadata": {},
   "outputs": [
    {
     "name": "stderr",
     "output_type": "stream",
     "text": [
      "100%|█████████████████████████████████████████████████████████████████████████████████████████████████████████████████████████████████████████████████████████████| 16/16 [00:00<00:00, 24.04it/s]\n"
     ]
    }
   ],
   "source": [
    "basePath = '~/dev/datasets/generative2D/train/'\n",
    "basePath = '/mnt/data/datasets/generative2D/train'\n",
    "basePath = os.path.expanduser(basePath)\n",
    "\n",
    "# simulationFiles = [basePath + '/' + f for f in os.listdir(basePath) if f.endswith('.zst')]\n",
    "simulationFiles = [basePath + '/' + f for f in os.listdir(basePath) if f.endswith('.hdf5')]\n",
    "# for i, c in enumerate(simulationFiles):\n",
    "#     print(i ,c)\n",
    "#     \n",
    "# simulationFiles  = [simulationFiles[0]]\n",
    "# simulationFiles = simulationFiles[:1]\n",
    "\n",
    "training = []\n",
    "validation = []\n",
    "testing = []\n",
    "\n",
    "for s in tqdm(simulationFiles):\n",
    "    f, s, u = splitFile(s, split = False, cutoff = -4, skip = 0)\n",
    "    training.append((f, (s,u)))\n",
    "# for s in simulationFiles:    \n",
    "#     _, train, valid, test = splitFileZSTD(s, split = True, limitRollOut = False, skip = 0, cutoff = 1800, distance = 1)\n",
    "#     training.append((s,train))\n",
    "#     validation.append((s,valid))\n",
    "#     testing.append((s,test))\n",
    "# debugPrint(training)"
   ]
  },
  {
   "cell_type": "code",
   "execution_count": 5,
   "id": "96829bd5",
   "metadata": {},
   "outputs": [],
   "source": [
    "\n",
    "from tqdm import tqdm\n"
   ]
  },
  {
   "cell_type": "code",
   "execution_count": 6,
   "id": "7dc8144f",
   "metadata": {},
   "outputs": [],
   "source": [
    "\n",
    "def processDataLoaderIter(iterations, e, rollout, ds, dataLoader, dataIter, model, optimizer, train = True, prefix = '', augmentAngle = False, augmentJitter = False, jitterAmount = 0.01):\n",
    "    with record_function(\"prcess data loader\"): \n",
    "#     pbl = gtqdms[args.gpu + args.gpus]\n",
    "        losses = []\n",
    "        batchIndices = []\n",
    "\n",
    "        if train:\n",
    "            model.train(True)\n",
    "        else:\n",
    "            model.train(False)\n",
    "\n",
    "    #     with portalocker.Lock('README.md', flags = 0x2, timeout = None):\n",
    "        t.reset(total=iterations)\n",
    "        i = 0\n",
    "        for b in range(iterations):\n",
    "            try:\n",
    "                bdata = next(dataIter)\n",
    "            except:\n",
    "                dataIter = iter(dataLoader)\n",
    "                bdata = next(dataIter)\n",
    "                \n",
    "            with record_function(\"prcess data loader[batch]\"): \n",
    "                if train:\n",
    "                    optimizer.zero_grad()\n",
    "                batchLosses, meanLosses, minLosses, maxLosses, stdLosses = processBatch(model, device, True, e, rollout, ds, bdata, frameDistance, augmentAngle, augmentJitter, jitterAmount)\n",
    "                batchIndices.append(np.array(bdata))\n",
    "                losses.append(batchLosses.detach().cpu().numpy())\n",
    "\n",
    "                with record_function(\"prcess data loader[batch] - backward\"): \n",
    "                    sumLosses = torch.mean(batchLosses[:,:,0]) #+ torch.mean(batchLosses[:,:,1])\n",
    "                    if train:\n",
    "                        sumLosses.backward()\n",
    "                        optimizer.step()\n",
    "                lossString = np.array2string(torch.mean(batchLosses[:,:,0],dim=0).detach().cpu().numpy(), formatter={'float_kind':lambda x: \"%.4e\" % x})\n",
    "                batchString = str(np.array2string(np.array(bdata), formatter={'float_kind':lambda x: \"%.2f\" % x, 'int':lambda x:'%04d' % x}))\n",
    "\n",
    "        #         with portalocker.Lock('README.md', flags = 0x2, timeout = None):\n",
    "                t.set_description('%24s[gpu %d]: %3d [%1d] @ %1.5e: :  %s -> %.4e' %(prefix, 0, e, rollout, lr, batchString, sumLosses.detach().cpu().numpy()))\n",
    "                t.update()\n",
    "                if prefix == 'training':\n",
    "                    te.set_description('[gpu %d] Learning: %1.4e Validation: %1.4e' %(0, np.mean(np.mean(np.vstack(losses)[:,:,0], axis = 1)), 0))\n",
    "                if prefix == 'validation':\n",
    "                    te.set_description('[gpu %d] Learning: %1.4e Validation: %1.4e' %(0, trainLoss, np.mean(np.mean(np.vstack(losses)[:,:,0], axis = 1))))\n",
    "                te.update()\n",
    "#                 i = i + 1\n",
    "#                 if i > 100:\n",
    "#                     break\n",
    "        bIndices  = np.hstack(batchIndices)\n",
    "        losses = np.vstack(losses)\n",
    "\n",
    "        idx = np.argsort(bIndices)\n",
    "        bIndices = bIndices[idx]\n",
    "        losses = losses[idx]\n",
    "\n",
    "        epochLoss = losses\n",
    "        return epochLoss\n"
   ]
  },
  {
   "cell_type": "code",
   "execution_count": 7,
   "id": "c5916031",
   "metadata": {},
   "outputs": [],
   "source": [
    "\n",
    "device = torch.device('cuda' if torch.cuda.is_available() else 'cpu')"
   ]
  },
  {
   "cell_type": "code",
   "execution_count": 8,
   "id": "1b6e2423",
   "metadata": {},
   "outputs": [],
   "source": [
    "\n",
    "def constructFluidFeatures(attributes, inputData):\n",
    "    fluidFeatures = torch.hstack(\\\n",
    "                (torch.ones(inputData['fluidArea'].shape[0]).type(torch.float32).unsqueeze(dim=1), \\\n",
    "                 inputData['fluidVelocity'].type(torch.float32), \n",
    "                 torch.zeros(inputData['fluidArea'].shape[0]).type(torch.float32).unsqueeze(dim=1)))\n",
    "                #  inputData['fluidGravity'].type(torch.float32)))\n",
    "\n",
    "                #  torch.ones(inputData['fluidArea'].shape[0]).type(torch.float32).unsqueeze(dim=1)))\n",
    "\n",
    "    # fluidFeatures = torch.ones(inputData['fluidArea'].shape[0]).type(torch.float32).unsqueeze(dim=1)\n",
    "    # fluidFeatures[:,0] *= 7 / np.pi * inputData['fluidArea']  / attributes['support']**2\n",
    "    \n",
    "    boundaryFeatures = torch.hstack((inputData['boundaryNormal'].type(torch.float32), torch.zeros(inputData['boundaryNormal'].shape[0]).type(torch.float32).unsqueeze(dim=1)))\n",
    "    # boundaryFeatures = torch.ones(inputData['boundaryNormal'].shape[0]).type(torch.float32).unsqueeze(dim=1)\n",
    "    # boundaryFeatures[:,0] *=  7 / np.pi * inputData['boundaryArea']  / attributes['support']**2\n",
    "    \n",
    "    return inputData['fluidPosition'].type(torch.float32), inputData['boundaryPosition'].type(torch.float32), fluidFeatures, boundaryFeatures\n"
   ]
  },
  {
   "cell_type": "code",
   "execution_count": 9,
   "id": "3e699fe7",
   "metadata": {},
   "outputs": [
    {
     "name": "stderr",
     "output_type": "stream",
     "text": [
      "/home/winchenbach/dev/pytorchSPH2/Cconv/datautils.py:320: H5pyDeprecationWarning: The default file mode will change to 'r' (read-only) in h5py 3.0. To suppress this warning, pass the mode you need to h5py.File(), or set the global default h5.get_config().default_file_mode, or set the environment variable H5PY_DEFAULT_READONLY=1. Available modes are: 'r', 'r+', 'w', 'w-'/'x', 'a'. See the docs for details.\n",
      "  inFile = h5py.File(filename)\n"
     ]
    }
   ],
   "source": [
    "batch_size = 2\n",
    "\n",
    "train_ds = datasetLoader(training)\n",
    "train_dataloader = DataLoader(train_ds, shuffle=True, batch_size = batch_size).batch_sampler\n",
    "\n",
    "# fileName, frameIndex, maxRollout = train_ds[0]\n",
    "fileName, frameIndex, maxRollout = train_ds[len(train_ds)//2]\n",
    "\n",
    "attributes, inputData, groundTruthData = loadFrame(fileName, 1854, 1 + np.arange(8), 16)\n",
    "attributes['support'] = attributes['support']# * 4.25\n",
    "# attributes['support'] = 0.01 /4 * 4.5\n",
    "inputData['fluidGravity'] = inputData['fluidGravity'][:,:2]\n",
    "fluidPositions, boundaryPositions, fluidFeatures, boundaryFeatures = constructFluidFeatures(attributes, inputData)\n",
    "\n",
    "\n",
    "predictedPositions = inputData['fluidPosition'].to(device)\n",
    "predictedVelocity = torch.clone(inputData['fluidVelocity']).to(device)"
   ]
  },
  {
   "cell_type": "code",
   "execution_count": 10,
   "id": "50087473",
   "metadata": {},
   "outputs": [
    {
     "name": "stderr",
     "output_type": "stream",
     "text": [
      "/home/winchenbach/anaconda3/envs/gns/lib/python3.7/site-packages/tensorflow_core/python/pywrap_tensorflow_internal.py:15: DeprecationWarning: the imp module is deprecated in favour of importlib; see the module's documentation for alternative uses\n",
      "  import imp\n",
      "/home/winchenbach/anaconda3/envs/gns/lib/python3.7/site-packages/tensorflow_core/python/framework/dtypes.py:597: DeprecationWarning: `np.object` is a deprecated alias for the builtin `object`. To silence this warning, use `object` by itself. Doing this will not modify any behavior and is safe. \n",
      "Deprecated in NumPy 1.20; for more details and guidance: https://numpy.org/devdocs/release/1.20.0-notes.html#deprecations\n",
      "  np.object,\n",
      "/home/winchenbach/anaconda3/envs/gns/lib/python3.7/site-packages/tensorflow_core/python/framework/dtypes.py:605: DeprecationWarning: `np.bool` is a deprecated alias for the builtin `bool`. To silence this warning, use `bool` by itself. Doing this will not modify any behavior and is safe. If you specifically wanted the numpy scalar type, use `np.bool_` here.\n",
      "Deprecated in NumPy 1.20; for more details and guidance: https://numpy.org/devdocs/release/1.20.0-notes.html#deprecations\n",
      "  np.bool,\n",
      "/home/winchenbach/anaconda3/envs/gns/lib/python3.7/importlib/_bootstrap.py:219: RuntimeWarning: numpy.ndarray size changed, may indicate binary incompatibility. Expected 88, got 80\n",
      "  return f(*args, **kwds)\n",
      "/home/winchenbach/anaconda3/envs/gns/lib/python3.7/importlib/_bootstrap.py:219: ImportWarning: can't resolve package from __spec__ or __package__, falling back on __name__ and __path__\n",
      "  return f(*args, **kwds)\n",
      "/home/winchenbach/anaconda3/envs/gns/lib/python3.7/site-packages/tensorflow_core/python/framework/tensor_util.py:106: DeprecationWarning: `np.object` is a deprecated alias for the builtin `object`. To silence this warning, use `object` by itself. Doing this will not modify any behavior and is safe. \n",
      "Deprecated in NumPy 1.20; for more details and guidance: https://numpy.org/devdocs/release/1.20.0-notes.html#deprecations\n",
      "  np.object:\n",
      "/home/winchenbach/anaconda3/envs/gns/lib/python3.7/site-packages/tensorflow_core/python/framework/tensor_util.py:108: DeprecationWarning: `np.bool` is a deprecated alias for the builtin `bool`. To silence this warning, use `bool` by itself. Doing this will not modify any behavior and is safe. If you specifically wanted the numpy scalar type, use `np.bool_` here.\n",
      "Deprecated in NumPy 1.20; for more details and guidance: https://numpy.org/devdocs/release/1.20.0-notes.html#deprecations\n",
      "  np.bool:\n",
      "/home/winchenbach/anaconda3/envs/gns/lib/python3.7/site-packages/tensorflow_core/python/keras/backend.py:5747: ResourceWarning: unclosed file <_io.TextIOWrapper name='/home/winchenbach/.keras/keras.json' mode='r' encoding='UTF-8'>\n",
      "  _config = json.load(open(_config_path))\n",
      "ResourceWarning: Enable tracemalloc to get the object allocation traceback\n",
      "/home/winchenbach/anaconda3/envs/gns/lib/python3.7/site-packages/tensorboard/compat/tensorflow_stub/dtypes.py:568: DeprecationWarning: `np.object` is a deprecated alias for the builtin `object`. To silence this warning, use `object` by itself. Doing this will not modify any behavior and is safe. \n",
      "Deprecated in NumPy 1.20; for more details and guidance: https://numpy.org/devdocs/release/1.20.0-notes.html#deprecations\n",
      "  (np.object, string),\n",
      "/home/winchenbach/anaconda3/envs/gns/lib/python3.7/site-packages/tensorboard/compat/tensorflow_stub/dtypes.py:569: DeprecationWarning: `np.bool` is a deprecated alias for the builtin `bool`. To silence this warning, use `bool` by itself. Doing this will not modify any behavior and is safe. If you specifically wanted the numpy scalar type, use `np.bool_` here.\n",
      "Deprecated in NumPy 1.20; for more details and guidance: https://numpy.org/devdocs/release/1.20.0-notes.html#deprecations\n",
      "  (np.bool, bool),\n",
      "/home/winchenbach/anaconda3/envs/gns/lib/python3.7/site-packages/tensorboard/util/tensor_util.py:100: DeprecationWarning: `np.object` is a deprecated alias for the builtin `object`. To silence this warning, use `object` by itself. Doing this will not modify any behavior and is safe. \n",
      "Deprecated in NumPy 1.20; for more details and guidance: https://numpy.org/devdocs/release/1.20.0-notes.html#deprecations\n",
      "  np.object: SlowAppendObjectArrayToTensorProto,\n",
      "/home/winchenbach/anaconda3/envs/gns/lib/python3.7/site-packages/tensorboard/util/tensor_util.py:101: DeprecationWarning: `np.bool` is a deprecated alias for the builtin `bool`. To silence this warning, use `bool` by itself. Doing this will not modify any behavior and is safe. If you specifically wanted the numpy scalar type, use `np.bool_` here.\n",
      "Deprecated in NumPy 1.20; for more details and guidance: https://numpy.org/devdocs/release/1.20.0-notes.html#deprecations\n",
      "  np.bool: SlowAppendBoolArrayToTensorProto,\n",
      "/home/winchenbach/anaconda3/envs/gns/lib/python3.7/site-packages/sonnet/__init__.py:57: PendingDeprecationWarning: The Spec() class will be removed in 3.1; use SimpleSpec() instead.\n",
      "  version_spec = semantic_version.Spec('>=' + min_version)\n",
      "/home/winchenbach/anaconda3/envs/gns/lib/python3.7/site-packages/tensorflow_probability/__init__.py:58: DeprecationWarning: distutils Version classes are deprecated. Use packaging.version instead.\n",
      "  if (distutils.version.LooseVersion(tf.__version__) <\n",
      "/home/winchenbach/anaconda3/envs/gns/lib/python3.7/site-packages/tensorflow_probability/python/mcmc/sample_halton_sequence.py:376: DeprecationWarning: `np.bool` is a deprecated alias for the builtin `bool`. To silence this warning, use `bool` by itself. Doing this will not modify any behavior and is safe. If you specifically wanted the numpy scalar type, use `np.bool_` here.\n",
      "Deprecated in NumPy 1.20; for more details and guidance: https://numpy.org/devdocs/release/1.20.0-notes.html#deprecations\n",
      "  sieve = np.ones(n // 3 + (n % 6 == 2), dtype=np.bool)\n",
      "/home/winchenbach/anaconda3/envs/gns/lib/python3.7/site-packages/sonnet/__init__.py:57: PendingDeprecationWarning: The Spec() class will be removed in 3.1; use SimpleSpec() instead.\n",
      "  version_spec = semantic_version.Spec('>=' + min_version)\n",
      "/home/winchenbach/anaconda3/envs/gns/lib/python3.7/site-packages/tensorflow_core/contrib/learn/python/learn/learn_io/generator_io.py:26: DeprecationWarning: Using or importing the ABCs from 'collections' instead of from 'collections.abc' is deprecated since Python 3.3,and in 3.9 it will stop working\n",
      "  from collections import Container\n"
     ]
    }
   ],
   "source": [
    "import collections\n",
    "\n",
    "import learned_simulator\n",
    "import noise_utils\n",
    "import numpy as np\n",
    "import tensorflow.compat.v1 as tf"
   ]
  },
  {
   "cell_type": "code",
   "execution_count": 11,
   "id": "5347c4e9",
   "metadata": {},
   "outputs": [],
   "source": [
    "\n",
    "INPUT_SEQUENCE_LENGTH = 6\n",
    "SEQUENCE_LENGTH = INPUT_SEQUENCE_LENGTH + 1  # add one target position.\n",
    "NUM_DIMENSIONS = 2\n",
    "NUM_PARTICLE_TYPES = 2\n",
    "BATCH_SIZE = 2\n",
    "GLOBAL_CONTEXT_SIZE = 6\n",
    "\n",
    "Stats = collections.namedtuple(\"Stats\", [\"mean\", \"std\"])\n",
    "\n",
    "DUMMY_STATS = Stats(\n",
    "    mean=np.zeros([NUM_DIMENSIONS], dtype=np.float32),\n",
    "    std=np.ones([NUM_DIMENSIONS], dtype=np.float32))\n",
    "DUMMY_CONTEXT_STATS = Stats(\n",
    "    mean=np.zeros([GLOBAL_CONTEXT_SIZE], dtype=np.float32),\n",
    "    std=np.ones([GLOBAL_CONTEXT_SIZE], dtype=np.float32))\n",
    "DUMMY_BOUNDARIES = [(-1., 1.)] * NUM_DIMENSIONS"
   ]
  },
  {
   "cell_type": "code",
   "execution_count": 12,
   "id": "192e987e",
   "metadata": {},
   "outputs": [],
   "source": [
    "\n",
    "def sample_random_position_sequence():\n",
    "  \"\"\"Returns mock data mimicking the input features collected by the encoder.\"\"\"\n",
    "  num_particles = tf.random_uniform(\n",
    "      shape=(), minval=50, maxval=1000, dtype=tf.int32)\n",
    "  position_sequence = tf.random.normal(\n",
    "      shape=[num_particles, SEQUENCE_LENGTH, NUM_DIMENSIONS])\n",
    "  return position_sequence\n"
   ]
  },
  {
   "cell_type": "code",
   "execution_count": 13,
   "id": "e9df7051",
   "metadata": {},
   "outputs": [
    {
     "name": "stdout",
     "output_type": "stream",
     "text": [
      "WARNING:tensorflow:From /home/winchenbach/anaconda3/envs/gns/lib/python3.7/site-packages/tensorflow_core/python/ops/resource_variable_ops.py:1630: calling BaseResourceVariable.__init__ (from tensorflow.python.ops.resource_variable_ops) with constraint is deprecated and will be removed in a future version.\n",
      "Instructions for updating:\n",
      "If using Keras pass *_constraint arguments to layers.\n"
     ]
    },
    {
     "name": "stderr",
     "output_type": "stream",
     "text": [
      "/home/winchenbach/anaconda3/envs/gns/lib/python3.7/site-packages/sonnet/python/modules/base.py:169: DeprecationWarning: Using or importing the ABCs from 'collections' instead of from 'collections.abc' is deprecated since Python 3.3,and in 3.9 it will stop working\n",
      "  if isinstance(custom_getter, collections.Mapping):\n",
      "/home/winchenbach/anaconda3/envs/gns/lib/python3.7/site-packages/sonnet/python/modules/nets/mlp.py:90: DeprecationWarning: Using or importing the ABCs from 'collections' instead of from 'collections.abc' is deprecated since Python 3.3,and in 3.9 it will stop working\n",
      "  if not isinstance(output_sizes, collections.Iterable):\n",
      "/home/winchenbach/anaconda3/envs/gns/lib/python3.7/site-packages/tensorflow_core/python/ops/variable_scope.py:452: DeprecationWarning: Using or importing the ABCs from 'collections' instead of from 'collections.abc' is deprecated since Python 3.3,and in 3.9 it will stop working\n",
      "  shape is not None and isinstance(shape, collections_lib.Sequence) and\n",
      "/home/winchenbach/anaconda3/envs/gns/lib/python3.7/site-packages/tensorflow_core/python/framework/tensor_util.py:521: DeprecationWarning: tostring() is deprecated. Use tobytes() instead.\n",
      "  tensor_proto.tensor_content = nparray.tostring()\n"
     ]
    }
   ],
   "source": [
    "\n",
    "learnable_model = learned_simulator.LearnedSimulator(\n",
    "  num_dimensions=NUM_DIMENSIONS,\n",
    "  connectivity_radius=0.05,\n",
    "  graph_network_kwargs=dict(\n",
    "      latent_size=128,\n",
    "      mlp_hidden_size=128,\n",
    "      mlp_num_hidden_layers=2,\n",
    "      num_message_passing_steps=2,\n",
    "  ),\n",
    "  boundaries=DUMMY_BOUNDARIES,\n",
    "  normalization_stats={\"acceleration\": DUMMY_STATS,\n",
    "                       \"velocity\": DUMMY_STATS,\n",
    "                       \"context\": DUMMY_CONTEXT_STATS,},\n",
    "  num_particle_types=NUM_PARTICLE_TYPES,\n",
    "  particle_type_embedding_size=16,\n",
    ")"
   ]
  },
  {
   "cell_type": "code",
   "execution_count": 14,
   "id": "0da110a9",
   "metadata": {},
   "outputs": [],
   "source": [
    "\n",
    "  # Sample a batch of particle sequences with shape:\n",
    "  # [TOTAL_NUM_PARTICLES, SEQUENCE_LENGTH, NUM_DIMENSIONS]\n",
    "  sampled_position_sequences = [\n",
    "      sample_random_position_sequence() for _ in range(BATCH_SIZE)]\n",
    "  position_sequence_batch = tf.concat(sampled_position_sequences, axis=0)\n",
    "\n",
    "  # Count how many particles are present in each element in the batch.\n",
    "  # [BATCH_SIZE]\n",
    "  n_particles_per_example = tf.stack(\n",
    "      [tf.shape(seq)[0] for seq in sampled_position_sequences], axis=0)\n",
    "\n",
    "  # Sample particle types.\n",
    "  # [TOTAL_NUM_PARTICLES]\n",
    "  particle_types = tf.random_uniform(\n",
    "      [tf.shape(position_sequence_batch)[0]],\n",
    "      0, NUM_PARTICLE_TYPES, dtype=tf.int32)\n",
    "\n",
    "  # Sample global context.\n",
    "  global_context = tf.random_uniform(\n",
    "      [BATCH_SIZE, GLOBAL_CONTEXT_SIZE], -1., 1., dtype=tf.float32)\n",
    "\n",
    "  # Separate input sequence from target sequence.\n",
    "  # [TOTAL_NUM_PARTICLES, INPUT_SEQUENCE_LENGTH, NUM_DIMENSIONS]\n",
    "  input_position_sequence = position_sequence_batch[:, :-1]\n",
    "  # [TOTAL_NUM_PARTICLES, NUM_DIMENSIONS]\n",
    "  target_next_position = position_sequence_batch[:, -1]"
   ]
  },
  {
   "cell_type": "code",
   "execution_count": 15,
   "id": "98c33d9f",
   "metadata": {},
   "outputs": [
    {
     "name": "stdout",
     "output_type": "stream",
     "text": [
      "WARNING:tensorflow:From /home/winchenbach/anaconda3/envs/gns/lib/python3.7/site-packages/tensorflow_core/python/ops/array_ops.py:1475: where (from tensorflow.python.ops.array_ops) is deprecated and will be removed in a future version.\n",
      "Instructions for updating:\n",
      "Use tf.where in 2.0, which has the same broadcast rule as np.where\n",
      "WARNING:tensorflow:From /home/winchenbach/anaconda3/envs/gns/lib/python3.7/site-packages/sonnet/python/modules/basic.py:127: calling TruncatedNormal.__init__ (from tensorflow.python.ops.init_ops) with dtype is deprecated and will be removed in a future version.\n",
      "Instructions for updating:\n",
      "Call initializer instance with the dtype argument instead of passing it to the constructor\n",
      "WARNING:tensorflow:From /home/winchenbach/anaconda3/envs/gns/lib/python3.7/site-packages/sonnet/python/modules/basic.py:132: calling Zeros.__init__ (from tensorflow.python.ops.init_ops) with dtype is deprecated and will be removed in a future version.\n",
      "Instructions for updating:\n",
      "Call initializer instance with the dtype argument instead of passing it to the constructor\n",
      "Per-particle output tensor: Tensor(\"LearnedSimulator_1/add_2:0\", shape=(?, 2), dtype=float32)\n"
     ]
    }
   ],
   "source": [
    "  # Single step of inference with the model to predict next position for each\n",
    "  # particle [TOTAL_NUM_PARTICLES, NUM_DIMENSIONS].\n",
    "  predicted_next_position = learnable_model(\n",
    "      input_position_sequence, n_particles_per_example, global_context,\n",
    "      particle_types)\n",
    "  print(f\"Per-particle output tensor: {predicted_next_position}\")"
   ]
  },
  {
   "cell_type": "code",
   "execution_count": 16,
   "id": "c79edc27",
   "metadata": {},
   "outputs": [
    {
     "name": "stdout",
     "output_type": "stream",
     "text": [
      "Predicted norm. acceleration: Tensor(\"EncodeProcessDecode/mlp/linear_2/add:0\", shape=(?, 2), dtype=float32)\n",
      "Target norm. acceleration: Tensor(\"truediv_4:0\", shape=(?, 2), dtype=float32)\n"
     ]
    }
   ],
   "source": [
    "\n",
    "  # Obtaining predicted and target normalized accelerations for training.\n",
    "  position_sequence_noise = (\n",
    "      noise_utils.get_random_walk_noise_for_position_sequence(\n",
    "          input_position_sequence, noise_std_last_step=6.7e-4))\n",
    "\n",
    "  # Both with shape [TOTAL_NUM_PARTICLES, NUM_DIMENSIONS]\n",
    "  predicted_normalized_acceleration, target_normalized_acceleration = (\n",
    "      learnable_model.get_predicted_and_target_normalized_accelerations(\n",
    "          target_next_position, position_sequence_noise,\n",
    "          input_position_sequence, n_particles_per_example, global_context,\n",
    "          particle_types))\n",
    "  print(f\"Predicted norm. acceleration: {predicted_normalized_acceleration}\")\n",
    "  print(f\"Target norm. acceleration: {target_normalized_acceleration}\")"
   ]
  },
  {
   "cell_type": "code",
   "execution_count": 17,
   "id": "5c820484",
   "metadata": {},
   "outputs": [
    {
     "name": "stdout",
     "output_type": "stream",
     "text": [
      "<tf.Variable 'LearnedSimulator/EncodeProcessDecode/graph_independent/edge_model/mlp/linear_1/w:0' shape=(128, 128) dtype=float32_ref> 16384\n",
      "<tf.Variable 'LearnedSimulator/EncodeProcessDecode/graph_independent/edge_model/mlp/linear_2/w:0' shape=(128, 128) dtype=float32_ref> 16384\n",
      "<tf.Variable 'LearnedSimulator/EncodeProcessDecode/graph_independent/node_model/mlp/linear_0/w:0' shape=(36, 128) dtype=float32_ref> 4608\n",
      "<tf.Variable 'LearnedSimulator/EncodeProcessDecode/graph_independent/node_model/mlp/linear_1/w:0' shape=(128, 128) dtype=float32_ref> 16384\n",
      "<tf.Variable 'LearnedSimulator/EncodeProcessDecode/graph_independent/node_model/mlp/linear_2/w:0' shape=(128, 128) dtype=float32_ref> 16384\n",
      "<tf.Variable 'LearnedSimulator/EncodeProcessDecode/interaction_network/edge_block/mlp/linear_0/w:0' shape=(384, 128) dtype=float32_ref> 49152\n",
      "<tf.Variable 'LearnedSimulator/EncodeProcessDecode/interaction_network/edge_block/mlp/linear_1/w:0' shape=(128, 128) dtype=float32_ref> 16384\n",
      "<tf.Variable 'LearnedSimulator/EncodeProcessDecode/interaction_network/edge_block/mlp/linear_2/w:0' shape=(128, 128) dtype=float32_ref> 16384\n",
      "<tf.Variable 'LearnedSimulator/EncodeProcessDecode/interaction_network/node_block/mlp/linear_0/w:0' shape=(256, 128) dtype=float32_ref> 32768\n",
      "<tf.Variable 'LearnedSimulator/EncodeProcessDecode/interaction_network/node_block/mlp/linear_1/w:0' shape=(128, 128) dtype=float32_ref> 16384\n",
      "<tf.Variable 'LearnedSimulator/EncodeProcessDecode/interaction_network/node_block/mlp/linear_2/w:0' shape=(128, 128) dtype=float32_ref> 16384\n",
      "<tf.Variable 'LearnedSimulator/EncodeProcessDecode/interaction_network_1/edge_block/mlp/linear_0/w:0' shape=(384, 128) dtype=float32_ref> 49152\n",
      "<tf.Variable 'LearnedSimulator/EncodeProcessDecode/interaction_network_1/edge_block/mlp/linear_1/w:0' shape=(128, 128) dtype=float32_ref> 16384\n",
      "<tf.Variable 'LearnedSimulator/EncodeProcessDecode/interaction_network_1/edge_block/mlp/linear_2/w:0' shape=(128, 128) dtype=float32_ref> 16384\n",
      "<tf.Variable 'LearnedSimulator/EncodeProcessDecode/interaction_network_1/node_block/mlp/linear_0/w:0' shape=(256, 128) dtype=float32_ref> 32768\n",
      "<tf.Variable 'LearnedSimulator/EncodeProcessDecode/interaction_network_1/node_block/mlp/linear_1/w:0' shape=(128, 128) dtype=float32_ref> 16384\n",
      "<tf.Variable 'LearnedSimulator/EncodeProcessDecode/interaction_network_1/node_block/mlp/linear_2/w:0' shape=(128, 128) dtype=float32_ref> 16384\n",
      "<tf.Variable 'LearnedSimulator/EncodeProcessDecode/mlp/linear_0/w:0' shape=(128, 128) dtype=float32_ref> 16384\n",
      "<tf.Variable 'LearnedSimulator/EncodeProcessDecode/mlp/linear_1/w:0' shape=(128, 128) dtype=float32_ref> 16384\n",
      "402594\n"
     ]
    }
   ],
   "source": [
    "total_parameters = 0\n",
    "for variable in tf.trainable_variables():\n",
    "    # shape is an array of tf.Dimension\n",
    "    shape = variable.get_shape()\n",
    "#     print(variable)\n",
    "#     print(len(shape))\n",
    "    variable_parameters = 1\n",
    "    for dim in shape:\n",
    "#         print(dim)\n",
    "        variable_parameters *= dim.value\n",
    "    if variable_parameters > 512:\n",
    "        print(variable, variable_parameters)\n",
    "    total_parameters += variable_parameters\n",
    "print(total_parameters)"
   ]
  },
  {
   "cell_type": "code",
   "execution_count": 42,
   "id": "0fcd4a96",
   "metadata": {},
   "outputs": [
    {
     "name": "stdout",
     "output_type": "stream",
     "text": [
      "183\n"
     ]
    }
   ],
   "source": [
    "print(len(tf.trainable_variables()))"
   ]
  },
  {
   "cell_type": "code",
   "execution_count": 37,
   "id": "291afa44",
   "metadata": {
    "scrolled": false
   },
   "outputs": [
    {
     "name": "stdout",
     "output_type": "stream",
     "text": [
      "INFO:tensorflow:Graph was finalized.\n"
     ]
    },
    {
     "name": "stderr",
     "output_type": "stream",
     "text": [
      "2023-04-05 12:56:04.978037: I tensorflow/stream_executor/platform/default/dso_loader.cc:44] Successfully opened dynamic library libcuda.so.1\n",
      "2023-04-05 12:56:05.005818: I tensorflow/stream_executor/cuda/cuda_gpu_executor.cc:983] successful NUMA node read from SysFS had negative value (-1), but there must be at least one NUMA node, so returning NUMA node zero\n",
      "2023-04-05 12:56:05.005943: I tensorflow/core/common_runtime/gpu/gpu_device.cc:1618] Found device 0 with properties: \n",
      "name: NVIDIA GeForce RTX 3060 major: 8 minor: 6 memoryClockRate(GHz): 1.867\n",
      "pciBusID: 0000:01:00.0\n",
      "2023-04-05 12:56:05.006126: I tensorflow/stream_executor/platform/default/dso_loader.cc:44] Successfully opened dynamic library libcudart.so.10.0\n",
      "2023-04-05 12:56:05.007252: I tensorflow/stream_executor/platform/default/dso_loader.cc:44] Successfully opened dynamic library libcublas.so.10.0\n",
      "2023-04-05 12:56:05.008241: I tensorflow/stream_executor/platform/default/dso_loader.cc:44] Successfully opened dynamic library libcufft.so.10.0\n",
      "2023-04-05 12:56:05.008492: I tensorflow/stream_executor/platform/default/dso_loader.cc:44] Successfully opened dynamic library libcurand.so.10.0\n",
      "2023-04-05 12:56:05.009905: I tensorflow/stream_executor/platform/default/dso_loader.cc:44] Successfully opened dynamic library libcusolver.so.10.0\n",
      "2023-04-05 12:56:05.010907: I tensorflow/stream_executor/platform/default/dso_loader.cc:44] Successfully opened dynamic library libcusparse.so.10.0\n",
      "2023-04-05 12:56:05.013990: I tensorflow/stream_executor/platform/default/dso_loader.cc:44] Successfully opened dynamic library libcudnn.so.7\n",
      "2023-04-05 12:56:05.014126: I tensorflow/stream_executor/cuda/cuda_gpu_executor.cc:983] successful NUMA node read from SysFS had negative value (-1), but there must be at least one NUMA node, so returning NUMA node zero\n",
      "2023-04-05 12:56:05.014283: I tensorflow/stream_executor/cuda/cuda_gpu_executor.cc:983] successful NUMA node read from SysFS had negative value (-1), but there must be at least one NUMA node, so returning NUMA node zero\n",
      "2023-04-05 12:56:05.014358: I tensorflow/core/common_runtime/gpu/gpu_device.cc:1746] Adding visible gpu devices: 0\n",
      "2023-04-05 12:56:05.014919: I tensorflow/core/platform/cpu_feature_guard.cc:142] Your CPU supports instructions that this TensorFlow binary was not compiled to use: SSE4.1 SSE4.2 AVX AVX2 AVX512F FMA\n",
      "2023-04-05 12:56:05.041052: I tensorflow/core/platform/profile_utils/cpu_utils.cc:94] CPU Frequency: 3504000000 Hz\n",
      "2023-04-05 12:56:05.042750: I tensorflow/compiler/xla/service/service.cc:168] XLA service 0x72fb4e0 initialized for platform Host (this does not guarantee that XLA will be used). Devices:\n",
      "2023-04-05 12:56:05.042806: I tensorflow/compiler/xla/service/service.cc:176]   StreamExecutor device (0): Host, Default Version\n",
      "2023-04-05 12:56:05.120530: I tensorflow/stream_executor/cuda/cuda_gpu_executor.cc:983] successful NUMA node read from SysFS had negative value (-1), but there must be at least one NUMA node, so returning NUMA node zero\n",
      "2023-04-05 12:56:05.120689: I tensorflow/compiler/xla/service/service.cc:168] XLA service 0x7317b60 initialized for platform CUDA (this does not guarantee that XLA will be used). Devices:\n",
      "2023-04-05 12:56:05.120708: I tensorflow/compiler/xla/service/service.cc:176]   StreamExecutor device (0): NVIDIA GeForce RTX 3060, Compute Capability 8.6\n",
      "2023-04-05 12:56:05.120897: I tensorflow/stream_executor/cuda/cuda_gpu_executor.cc:983] successful NUMA node read from SysFS had negative value (-1), but there must be at least one NUMA node, so returning NUMA node zero\n",
      "2023-04-05 12:56:05.120997: I tensorflow/core/common_runtime/gpu/gpu_device.cc:1618] Found device 0 with properties: \n",
      "name: NVIDIA GeForce RTX 3060 major: 8 minor: 6 memoryClockRate(GHz): 1.867\n",
      "pciBusID: 0000:01:00.0\n",
      "2023-04-05 12:56:05.121037: I tensorflow/stream_executor/platform/default/dso_loader.cc:44] Successfully opened dynamic library libcudart.so.10.0\n",
      "2023-04-05 12:56:05.121051: I tensorflow/stream_executor/platform/default/dso_loader.cc:44] Successfully opened dynamic library libcublas.so.10.0\n",
      "2023-04-05 12:56:05.121063: I tensorflow/stream_executor/platform/default/dso_loader.cc:44] Successfully opened dynamic library libcufft.so.10.0\n",
      "2023-04-05 12:56:05.121077: I tensorflow/stream_executor/platform/default/dso_loader.cc:44] Successfully opened dynamic library libcurand.so.10.0\n",
      "2023-04-05 12:56:05.121093: I tensorflow/stream_executor/platform/default/dso_loader.cc:44] Successfully opened dynamic library libcusolver.so.10.0\n",
      "2023-04-05 12:56:05.121110: I tensorflow/stream_executor/platform/default/dso_loader.cc:44] Successfully opened dynamic library libcusparse.so.10.0\n",
      "2023-04-05 12:56:05.121125: I tensorflow/stream_executor/platform/default/dso_loader.cc:44] Successfully opened dynamic library libcudnn.so.7\n",
      "2023-04-05 12:56:05.121180: I tensorflow/stream_executor/cuda/cuda_gpu_executor.cc:983] successful NUMA node read from SysFS had negative value (-1), but there must be at least one NUMA node, so returning NUMA node zero\n",
      "2023-04-05 12:56:05.121297: I tensorflow/stream_executor/cuda/cuda_gpu_executor.cc:983] successful NUMA node read from SysFS had negative value (-1), but there must be at least one NUMA node, so returning NUMA node zero\n",
      "2023-04-05 12:56:05.121368: I tensorflow/core/common_runtime/gpu/gpu_device.cc:1746] Adding visible gpu devices: 0\n",
      "2023-04-05 12:56:05.121406: I tensorflow/stream_executor/platform/default/dso_loader.cc:44] Successfully opened dynamic library libcudart.so.10.0\n",
      "2023-04-05 12:56:05.121596: I tensorflow/core/common_runtime/gpu/gpu_device.cc:1159] Device interconnect StreamExecutor with strength 1 edge matrix:\n",
      "2023-04-05 12:56:05.121607: I tensorflow/core/common_runtime/gpu/gpu_device.cc:1165]      0 \n",
      "2023-04-05 12:56:05.121612: I tensorflow/core/common_runtime/gpu/gpu_device.cc:1178] 0:   N \n",
      "2023-04-05 12:56:05.121695: I tensorflow/stream_executor/cuda/cuda_gpu_executor.cc:983] successful NUMA node read from SysFS had negative value (-1), but there must be at least one NUMA node, so returning NUMA node zero\n",
      "2023-04-05 12:56:05.121814: I tensorflow/stream_executor/cuda/cuda_gpu_executor.cc:983] successful NUMA node read from SysFS had negative value (-1), but there must be at least one NUMA node, so returning NUMA node zero\n",
      "2023-04-05 12:56:05.121906: I tensorflow/core/common_runtime/gpu/gpu_device.cc:1304] Created TensorFlow device (/job:localhost/replica:0/task:0/device:GPU:0 with 7136 MB memory) -> physical GPU (device: 0, name: NVIDIA GeForce RTX 3060, pci bus id: 0000:01:00.0, compute capability: 8.6)\n"
     ]
    },
    {
     "name": "stdout",
     "output_type": "stream",
     "text": [
      "INFO:tensorflow:Running local_init_op.\n",
      "INFO:tensorflow:Done running local_init_op.\n"
     ]
    },
    {
     "name": "stderr",
     "output_type": "stream",
     "text": [
      "2023-04-05 13:01:11.124603: I tensorflow/stream_executor/platform/default/dso_loader.cc:44] Successfully opened dynamic library libcublas.so.10.0\n",
      "2023-04-05 13:02:34.210432: I tensorflow/stream_executor/cuda/cuda_gpu_executor.cc:983] successful NUMA node read from SysFS had negative value (-1), but there must be at least one NUMA node, so returning NUMA node zero\n",
      "2023-04-05 13:02:34.210457: E tensorflow/stream_executor/cuda/cuda_blas.cc:428] failed to run cuBLAS routine: CUBLAS_STATUS_EXECUTION_FAILED\n",
      "2023-04-05 13:02:34.210555: I tensorflow/core/common_runtime/gpu/gpu_device.cc:1618] Found device 0 with properties: \n",
      "name: NVIDIA GeForce RTX 3060 major: 8 minor: 6 memoryClockRate(GHz): 1.867\n",
      "pciBusID: 0000:01:00.0\n",
      "2023-04-05 13:02:34.210609: I tensorflow/stream_executor/platform/default/dso_loader.cc:44] Successfully opened dynamic library libcudart.so.10.0\n",
      "2023-04-05 13:02:34.210623: I tensorflow/stream_executor/platform/default/dso_loader.cc:44] Successfully opened dynamic library libcublas.so.10.0\n",
      "2023-04-05 13:02:34.210635: I tensorflow/stream_executor/platform/default/dso_loader.cc:44] Successfully opened dynamic library libcufft.so.10.0\n",
      "2023-04-05 13:02:34.210647: I tensorflow/stream_executor/platform/default/dso_loader.cc:44] Successfully opened dynamic library libcurand.so.10.0\n",
      "2023-04-05 13:02:34.210659: I tensorflow/stream_executor/platform/default/dso_loader.cc:44] Successfully opened dynamic library libcusolver.so.10.0\n",
      "2023-04-05 13:02:34.210670: I tensorflow/stream_executor/platform/default/dso_loader.cc:44] Successfully opened dynamic library libcusparse.so.10.0\n",
      "2023-04-05 13:02:34.210682: I tensorflow/stream_executor/platform/default/dso_loader.cc:44] Successfully opened dynamic library libcudnn.so.7\n",
      "2023-04-05 13:02:34.210734: I tensorflow/stream_executor/cuda/cuda_gpu_executor.cc:983] successful NUMA node read from SysFS had negative value (-1), but there must be at least one NUMA node, so returning NUMA node zero\n",
      "2023-04-05 13:02:34.210846: I tensorflow/stream_executor/cuda/cuda_gpu_executor.cc:983] successful NUMA node read from SysFS had negative value (-1), but there must be at least one NUMA node, so returning NUMA node zero\n",
      "2023-04-05 13:02:34.210914: I tensorflow/core/common_runtime/gpu/gpu_device.cc:1746] Adding visible gpu devices: 0\n",
      "2023-04-05 13:02:34.210930: I tensorflow/core/common_runtime/gpu/gpu_device.cc:1159] Device interconnect StreamExecutor with strength 1 edge matrix:\n",
      "2023-04-05 13:02:34.210934: I tensorflow/core/common_runtime/gpu/gpu_device.cc:1165]      0 \n",
      "2023-04-05 13:02:34.210938: I tensorflow/core/common_runtime/gpu/gpu_device.cc:1178] 0:   N \n",
      "2023-04-05 13:02:34.211001: I tensorflow/stream_executor/cuda/cuda_gpu_executor.cc:983] successful NUMA node read from SysFS had negative value (-1), but there must be at least one NUMA node, so returning NUMA node zero\n",
      "2023-04-05 13:02:34.211114: I tensorflow/stream_executor/cuda/cuda_gpu_executor.cc:983] successful NUMA node read from SysFS had negative value (-1), but there must be at least one NUMA node, so returning NUMA node zero\n",
      "2023-04-05 13:02:34.211191: I tensorflow/core/common_runtime/gpu/gpu_device.cc:1304] Created TensorFlow device (/job:localhost/replica:0/task:0/device:GPU:0 with 7136 MB memory) -> physical GPU (device: 0, name: NVIDIA GeForce RTX 3060, pci bus id: 0000:01:00.0, compute capability: 8.6)\n"
     ]
    },
    {
     "ename": "InternalError",
     "evalue": "2 root error(s) found.\n  (0) Internal: Blas GEMM launch failed : a.shape=(915, 36), b.shape=(36, 128), m=915, n=128, k=36\n\t [[node LearnedSimulator_1/EncodeProcessDecode/graph_independent/node_model/sequential/mlp/linear_0/MatMul (defined at home/winchenbach/anaconda3/envs/gns/lib/python3.7/site-packages/tensorflow_core/python/framework/ops.py:1748) ]]\n  (1) Internal: Blas GEMM launch failed : a.shape=(915, 36), b.shape=(36, 128), m=915, n=128, k=36\n\t [[node LearnedSimulator_1/EncodeProcessDecode/graph_independent/node_model/sequential/mlp/linear_0/MatMul (defined at home/winchenbach/anaconda3/envs/gns/lib/python3.7/site-packages/tensorflow_core/python/framework/ops.py:1748) ]]\n\t [[LearnedSimulator_1/add_2/_759]]\n0 successful operations.\n0 derived errors ignored.\n\nOriginal stack trace for 'LearnedSimulator_1/EncodeProcessDecode/graph_independent/node_model/sequential/mlp/linear_0/MatMul':\n  File \"home/winchenbach/anaconda3/envs/gns/lib/python3.7/runpy.py\", line 193, in _run_module_as_main\n    \"__main__\", mod_spec)\n  File \"home/winchenbach/anaconda3/envs/gns/lib/python3.7/runpy.py\", line 85, in _run_code\n    exec(code, run_globals)\n  File \"home/winchenbach/anaconda3/envs/gns/lib/python3.7/site-packages/ipykernel_launcher.py\", line 17, in <module>\n    app.launch_new_instance()\n  File \"home/winchenbach/anaconda3/envs/gns/lib/python3.7/site-packages/traitlets/config/application.py\", line 992, in launch_instance\n    app.start()\n  File \"home/winchenbach/anaconda3/envs/gns/lib/python3.7/site-packages/ipykernel/kernelapp.py\", line 712, in start\n    self.io_loop.start()\n  File \"home/winchenbach/anaconda3/envs/gns/lib/python3.7/site-packages/tornado/platform/asyncio.py\", line 215, in start\n    self.asyncio_loop.run_forever()\n  File \"home/winchenbach/anaconda3/envs/gns/lib/python3.7/asyncio/base_events.py\", line 541, in run_forever\n    self._run_once()\n  File \"home/winchenbach/anaconda3/envs/gns/lib/python3.7/asyncio/base_events.py\", line 1786, in _run_once\n    handle._run()\n  File \"home/winchenbach/anaconda3/envs/gns/lib/python3.7/asyncio/events.py\", line 88, in _run\n    self._context.run(self._callback, *self._args)\n  File \"home/winchenbach/anaconda3/envs/gns/lib/python3.7/site-packages/ipykernel/kernelbase.py\", line 510, in dispatch_queue\n    await self.process_one()\n  File \"home/winchenbach/anaconda3/envs/gns/lib/python3.7/site-packages/ipykernel/kernelbase.py\", line 499, in process_one\n    await dispatch(*args)\n  File \"home/winchenbach/anaconda3/envs/gns/lib/python3.7/site-packages/ipykernel/kernelbase.py\", line 406, in dispatch_shell\n    await result\n  File \"home/winchenbach/anaconda3/envs/gns/lib/python3.7/site-packages/ipykernel/kernelbase.py\", line 730, in execute_request\n    reply_content = await reply_content\n  File \"home/winchenbach/anaconda3/envs/gns/lib/python3.7/site-packages/ipykernel/ipkernel.py\", line 390, in do_execute\n    res = shell.run_cell(code, store_history=store_history, silent=silent)\n  File \"home/winchenbach/anaconda3/envs/gns/lib/python3.7/site-packages/ipykernel/zmqshell.py\", line 528, in run_cell\n    return super().run_cell(*args, **kwargs)\n  File \"home/winchenbach/anaconda3/envs/gns/lib/python3.7/site-packages/IPython/core/interactiveshell.py\", line 2915, in run_cell\n    raw_cell, store_history, silent, shell_futures)\n  File \"home/winchenbach/anaconda3/envs/gns/lib/python3.7/site-packages/IPython/core/interactiveshell.py\", line 2960, in _run_cell\n    return runner(coro)\n  File \"home/winchenbach/anaconda3/envs/gns/lib/python3.7/site-packages/IPython/core/async_helpers.py\", line 78, in _pseudo_sync_runner\n    coro.send(None)\n  File \"home/winchenbach/anaconda3/envs/gns/lib/python3.7/site-packages/IPython/core/interactiveshell.py\", line 3186, in run_cell_async\n    interactivity=interactivity, compiler=compiler, result=result)\n  File \"home/winchenbach/anaconda3/envs/gns/lib/python3.7/site-packages/IPython/core/interactiveshell.py\", line 3377, in run_ast_nodes\n    if (await self.run_code(code, result,  async_=asy)):\n  File \"home/winchenbach/anaconda3/envs/gns/lib/python3.7/site-packages/IPython/core/interactiveshell.py\", line 3457, in run_code\n    exec(code_obj, self.user_global_ns, self.user_ns)\n  File \"tmp/ipykernel_1287210/3240816096.py\", line 5, in <module>\n    particle_types)\n  File \"home/winchenbach/anaconda3/envs/gns/lib/python3.7/site-packages/sonnet/python/modules/base.py\", line 398, in __call__\n    return self._call(*args, **kwargs)\n  File \"home/winchenbach/anaconda3/envs/gns/lib/python3.7/site-packages/sonnet/python/modules/base.py\", line 420, in _call\n    outputs, subgraph_name_scope = self._template(*args, **kwargs)\n  File \"home/winchenbach/anaconda3/envs/gns/lib/python3.7/site-packages/tensorflow_core/python/ops/template.py\", line 385, in __call__\n    return self._call_func(args, kwargs)\n  File \"home/winchenbach/anaconda3/envs/gns/lib/python3.7/site-packages/tensorflow_core/python/ops/template.py\", line 355, in _call_func\n    result = self._func(*args, **kwargs)\n  File \"home/winchenbach/anaconda3/envs/gns/lib/python3.7/site-packages/sonnet/python/modules/base.py\", line 228, in _build_wrapper\n    output = self._build(*args, **kwargs)\n  File \"home/winchenbach/dev/deepmind-research/learning_to_simulate/learned_simulator.py\", line 107, in _build\n    normalized_acceleration = self._graph_network(input_graphs_tuple)\n  File \"home/winchenbach/anaconda3/envs/gns/lib/python3.7/site-packages/sonnet/python/modules/base.py\", line 398, in __call__\n    return self._call(*args, **kwargs)\n  File \"home/winchenbach/anaconda3/envs/gns/lib/python3.7/site-packages/sonnet/python/modules/base.py\", line 420, in _call\n    outputs, subgraph_name_scope = self._template(*args, **kwargs)\n  File \"home/winchenbach/anaconda3/envs/gns/lib/python3.7/site-packages/tensorflow_core/python/ops/template.py\", line 385, in __call__\n    return self._call_func(args, kwargs)\n  File \"home/winchenbach/anaconda3/envs/gns/lib/python3.7/site-packages/tensorflow_core/python/ops/template.py\", line 355, in _call_func\n    result = self._func(*args, **kwargs)\n  File \"home/winchenbach/anaconda3/envs/gns/lib/python3.7/site-packages/sonnet/python/modules/base.py\", line 228, in _build_wrapper\n    output = self._build(*args, **kwargs)\n  File \"home/winchenbach/dev/deepmind-research/learning_to_simulate/graph_network.py\", line 93, in _build\n    latent_graph_0 = self._encode(input_graph)\n  File \"home/winchenbach/dev/deepmind-research/learning_to_simulate/graph_network.py\", line 147, in _encode\n    latent_graph_0 = self._encoder_network(input_graph)\n  File \"home/winchenbach/anaconda3/envs/gns/lib/python3.7/site-packages/sonnet/python/modules/base.py\", line 398, in __call__\n    return self._call(*args, **kwargs)\n  File \"home/winchenbach/anaconda3/envs/gns/lib/python3.7/site-packages/sonnet/python/modules/base.py\", line 420, in _call\n    outputs, subgraph_name_scope = self._template(*args, **kwargs)\n  File \"home/winchenbach/anaconda3/envs/gns/lib/python3.7/site-packages/tensorflow_core/python/ops/template.py\", line 385, in __call__\n    return self._call_func(args, kwargs)\n  File \"home/winchenbach/anaconda3/envs/gns/lib/python3.7/site-packages/tensorflow_core/python/ops/template.py\", line 355, in _call_func\n    result = self._func(*args, **kwargs)\n  File \"home/winchenbach/anaconda3/envs/gns/lib/python3.7/site-packages/sonnet/python/modules/base.py\", line 228, in _build_wrapper\n    output = self._build(*args, **kwargs)\n  File \"home/winchenbach/anaconda3/envs/gns/lib/python3.7/site-packages/graph_nets/modules.py\", line 367, in _build\n    nodes=self._node_model(graph.nodes),\n  File \"home/winchenbach/anaconda3/envs/gns/lib/python3.7/site-packages/sonnet/python/modules/base.py\", line 398, in __call__\n    return self._call(*args, **kwargs)\n  File \"home/winchenbach/anaconda3/envs/gns/lib/python3.7/site-packages/sonnet/python/modules/base.py\", line 420, in _call\n    outputs, subgraph_name_scope = self._template(*args, **kwargs)\n  File \"home/winchenbach/anaconda3/envs/gns/lib/python3.7/site-packages/tensorflow_core/python/ops/template.py\", line 385, in __call__\n    return self._call_func(args, kwargs)\n  File \"home/winchenbach/anaconda3/envs/gns/lib/python3.7/site-packages/tensorflow_core/python/ops/template.py\", line 355, in _call_func\n    result = self._func(*args, **kwargs)\n  File \"home/winchenbach/anaconda3/envs/gns/lib/python3.7/site-packages/sonnet/python/modules/base.py\", line 228, in _build_wrapper\n    output = self._build(*args, **kwargs)\n  File \"home/winchenbach/anaconda3/envs/gns/lib/python3.7/site-packages/graph_nets/_base.py\", line 112, in _build\n    return self._model(*args, **kwargs)\n  File \"home/winchenbach/anaconda3/envs/gns/lib/python3.7/site-packages/sonnet/python/modules/base.py\", line 398, in __call__\n    return self._call(*args, **kwargs)\n  File \"home/winchenbach/anaconda3/envs/gns/lib/python3.7/site-packages/sonnet/python/modules/base.py\", line 420, in _call\n    outputs, subgraph_name_scope = self._template(*args, **kwargs)\n  File \"home/winchenbach/anaconda3/envs/gns/lib/python3.7/site-packages/tensorflow_core/python/ops/template.py\", line 385, in __call__\n    return self._call_func(args, kwargs)\n  File \"home/winchenbach/anaconda3/envs/gns/lib/python3.7/site-packages/tensorflow_core/python/ops/template.py\", line 355, in _call_func\n    result = self._func(*args, **kwargs)\n  File \"home/winchenbach/anaconda3/envs/gns/lib/python3.7/site-packages/sonnet/python/modules/base.py\", line 228, in _build_wrapper\n    output = self._build(*args, **kwargs)\n  File \"home/winchenbach/anaconda3/envs/gns/lib/python3.7/site-packages/sonnet/python/modules/sequential.py\", line 103, in _build\n    net = layer(*net)\n  File \"home/winchenbach/anaconda3/envs/gns/lib/python3.7/site-packages/sonnet/python/modules/base.py\", line 398, in __call__\n    return self._call(*args, **kwargs)\n  File \"home/winchenbach/anaconda3/envs/gns/lib/python3.7/site-packages/sonnet/python/modules/base.py\", line 420, in _call\n    outputs, subgraph_name_scope = self._template(*args, **kwargs)\n  File \"home/winchenbach/anaconda3/envs/gns/lib/python3.7/site-packages/tensorflow_core/python/ops/template.py\", line 385, in __call__\n    return self._call_func(args, kwargs)\n  File \"home/winchenbach/anaconda3/envs/gns/lib/python3.7/site-packages/tensorflow_core/python/ops/template.py\", line 355, in _call_func\n    result = self._func(*args, **kwargs)\n  File \"home/winchenbach/anaconda3/envs/gns/lib/python3.7/site-packages/sonnet/python/modules/base.py\", line 228, in _build_wrapper\n    output = self._build(*args, **kwargs)\n  File \"home/winchenbach/anaconda3/envs/gns/lib/python3.7/site-packages/sonnet/python/modules/nets/mlp.py\", line 167, in _build\n    net = self._layers[layer_id](net)\n  File \"home/winchenbach/anaconda3/envs/gns/lib/python3.7/site-packages/sonnet/python/modules/base.py\", line 398, in __call__\n    return self._call(*args, **kwargs)\n  File \"home/winchenbach/anaconda3/envs/gns/lib/python3.7/site-packages/sonnet/python/modules/base.py\", line 420, in _call\n    outputs, subgraph_name_scope = self._template(*args, **kwargs)\n  File \"home/winchenbach/anaconda3/envs/gns/lib/python3.7/site-packages/tensorflow_core/python/ops/template.py\", line 385, in __call__\n    return self._call_func(args, kwargs)\n  File \"home/winchenbach/anaconda3/envs/gns/lib/python3.7/site-packages/tensorflow_core/python/ops/template.py\", line 355, in _call_func\n    result = self._func(*args, **kwargs)\n  File \"home/winchenbach/anaconda3/envs/gns/lib/python3.7/site-packages/sonnet/python/modules/base.py\", line 228, in _build_wrapper\n    output = self._build(*args, **kwargs)\n  File \"home/winchenbach/anaconda3/envs/gns/lib/python3.7/site-packages/sonnet/python/modules/basic.py\", line 284, in _build\n    outputs = tf.matmul(inputs, self._w)\n  File \"home/winchenbach/anaconda3/envs/gns/lib/python3.7/site-packages/tensorflow_core/python/util/dispatch.py\", line 180, in wrapper\n    return target(*args, **kwargs)\n  File \"home/winchenbach/anaconda3/envs/gns/lib/python3.7/site-packages/tensorflow_core/python/ops/math_ops.py\", line 2754, in matmul\n    a, b, transpose_a=transpose_a, transpose_b=transpose_b, name=name)\n  File \"home/winchenbach/anaconda3/envs/gns/lib/python3.7/site-packages/tensorflow_core/python/ops/gen_math_ops.py\", line 6136, in mat_mul\n    name=name)\n  File \"home/winchenbach/anaconda3/envs/gns/lib/python3.7/site-packages/tensorflow_core/python/framework/op_def_library.py\", line 794, in _apply_op_helper\n    op_def=op_def)\n  File \"home/winchenbach/anaconda3/envs/gns/lib/python3.7/site-packages/tensorflow_core/python/util/deprecation.py\", line 507, in new_func\n    return func(*args, **kwargs)\n  File \"home/winchenbach/anaconda3/envs/gns/lib/python3.7/site-packages/tensorflow_core/python/framework/ops.py\", line 3357, in create_op\n    attrs, op_def, compute_device)\n  File \"home/winchenbach/anaconda3/envs/gns/lib/python3.7/site-packages/tensorflow_core/python/framework/ops.py\", line 3426, in _create_op_internal\n    op_def=op_def)\n  File \"home/winchenbach/anaconda3/envs/gns/lib/python3.7/site-packages/tensorflow_core/python/framework/ops.py\", line 1748, in __init__\n    self._traceback = tf_stack.extract_stack()\n",
     "output_type": "error",
     "traceback": [
      "\u001b[0;31m---------------------------------------------------------------------------\u001b[0m",
      "\u001b[0;31mInternalError\u001b[0m                             Traceback (most recent call last)",
      "\u001b[0;32m~/anaconda3/envs/gns/lib/python3.7/site-packages/tensorflow_core/python/client/session.py\u001b[0m in \u001b[0;36m_do_call\u001b[0;34m(self, fn, *args)\u001b[0m\n\u001b[1;32m   1364\u001b[0m     \u001b[0;32mtry\u001b[0m\u001b[0;34m:\u001b[0m\u001b[0;34m\u001b[0m\u001b[0;34m\u001b[0m\u001b[0m\n\u001b[0;32m-> 1365\u001b[0;31m       \u001b[0;32mreturn\u001b[0m \u001b[0mfn\u001b[0m\u001b[0;34m(\u001b[0m\u001b[0;34m*\u001b[0m\u001b[0margs\u001b[0m\u001b[0;34m)\u001b[0m\u001b[0;34m\u001b[0m\u001b[0;34m\u001b[0m\u001b[0m\n\u001b[0m\u001b[1;32m   1366\u001b[0m     \u001b[0;32mexcept\u001b[0m \u001b[0merrors\u001b[0m\u001b[0;34m.\u001b[0m\u001b[0mOpError\u001b[0m \u001b[0;32mas\u001b[0m \u001b[0me\u001b[0m\u001b[0;34m:\u001b[0m\u001b[0;34m\u001b[0m\u001b[0;34m\u001b[0m\u001b[0m\n",
      "\u001b[0;32m~/anaconda3/envs/gns/lib/python3.7/site-packages/tensorflow_core/python/client/session.py\u001b[0m in \u001b[0;36m_run_fn\u001b[0;34m(feed_dict, fetch_list, target_list, options, run_metadata)\u001b[0m\n\u001b[1;32m   1349\u001b[0m       return self._call_tf_sessionrun(options, feed_dict, fetch_list,\n\u001b[0;32m-> 1350\u001b[0;31m                                       target_list, run_metadata)\n\u001b[0m\u001b[1;32m   1351\u001b[0m \u001b[0;34m\u001b[0m\u001b[0m\n",
      "\u001b[0;32m~/anaconda3/envs/gns/lib/python3.7/site-packages/tensorflow_core/python/client/session.py\u001b[0m in \u001b[0;36m_call_tf_sessionrun\u001b[0;34m(self, options, feed_dict, fetch_list, target_list, run_metadata)\u001b[0m\n\u001b[1;32m   1442\u001b[0m                                             \u001b[0mfetch_list\u001b[0m\u001b[0;34m,\u001b[0m \u001b[0mtarget_list\u001b[0m\u001b[0;34m,\u001b[0m\u001b[0;34m\u001b[0m\u001b[0;34m\u001b[0m\u001b[0m\n\u001b[0;32m-> 1443\u001b[0;31m                                             run_metadata)\n\u001b[0m\u001b[1;32m   1444\u001b[0m \u001b[0;34m\u001b[0m\u001b[0m\n",
      "\u001b[0;31mInternalError\u001b[0m: 2 root error(s) found.\n  (0) Internal: Blas GEMM launch failed : a.shape=(915, 36), b.shape=(36, 128), m=915, n=128, k=36\n\t [[{{node LearnedSimulator_1/EncodeProcessDecode/graph_independent/node_model/sequential/mlp/linear_0/MatMul}}]]\n  (1) Internal: Blas GEMM launch failed : a.shape=(915, 36), b.shape=(36, 128), m=915, n=128, k=36\n\t [[{{node LearnedSimulator_1/EncodeProcessDecode/graph_independent/node_model/sequential/mlp/linear_0/MatMul}}]]\n\t [[LearnedSimulator_1/add_2/_759]]\n0 successful operations.\n0 derived errors ignored.",
      "\nDuring handling of the above exception, another exception occurred:\n",
      "\u001b[0;31mInternalError\u001b[0m                             Traceback (most recent call last)",
      "\u001b[0;32m/tmp/ipykernel_1287210/2112961131.py\u001b[0m in \u001b[0;36m<module>\u001b[0;34m\u001b[0m\n\u001b[1;32m      2\u001b[0m   sess.run([predicted_next_position,\n\u001b[1;32m      3\u001b[0m             \u001b[0mpredicted_normalized_acceleration\u001b[0m\u001b[0;34m,\u001b[0m\u001b[0;34m\u001b[0m\u001b[0;34m\u001b[0m\u001b[0m\n\u001b[0;32m----> 4\u001b[0;31m             target_normalized_acceleration])\n\u001b[0m",
      "\u001b[0;32m~/anaconda3/envs/gns/lib/python3.7/site-packages/tensorflow_core/python/training/monitored_session.py\u001b[0m in \u001b[0;36mrun\u001b[0;34m(self, fetches, feed_dict, options, run_metadata)\u001b[0m\n\u001b[1;32m    752\u001b[0m         \u001b[0mfeed_dict\u001b[0m\u001b[0;34m=\u001b[0m\u001b[0mfeed_dict\u001b[0m\u001b[0;34m,\u001b[0m\u001b[0;34m\u001b[0m\u001b[0;34m\u001b[0m\u001b[0m\n\u001b[1;32m    753\u001b[0m         \u001b[0moptions\u001b[0m\u001b[0;34m=\u001b[0m\u001b[0moptions\u001b[0m\u001b[0;34m,\u001b[0m\u001b[0;34m\u001b[0m\u001b[0;34m\u001b[0m\u001b[0m\n\u001b[0;32m--> 754\u001b[0;31m         run_metadata=run_metadata)\n\u001b[0m\u001b[1;32m    755\u001b[0m \u001b[0;34m\u001b[0m\u001b[0m\n\u001b[1;32m    756\u001b[0m   \u001b[0;32mdef\u001b[0m \u001b[0mrun_step_fn\u001b[0m\u001b[0;34m(\u001b[0m\u001b[0mself\u001b[0m\u001b[0;34m,\u001b[0m \u001b[0mstep_fn\u001b[0m\u001b[0;34m)\u001b[0m\u001b[0;34m:\u001b[0m\u001b[0;34m\u001b[0m\u001b[0;34m\u001b[0m\u001b[0m\n",
      "\u001b[0;32m~/anaconda3/envs/gns/lib/python3.7/site-packages/tensorflow_core/python/training/monitored_session.py\u001b[0m in \u001b[0;36mrun\u001b[0;34m(self, *args, **kwargs)\u001b[0m\n\u001b[1;32m   1358\u001b[0m         \u001b[0;32mraise\u001b[0m \u001b[0msix\u001b[0m\u001b[0;34m.\u001b[0m\u001b[0mreraise\u001b[0m\u001b[0;34m(\u001b[0m\u001b[0;34m*\u001b[0m\u001b[0moriginal_exc_info\u001b[0m\u001b[0;34m)\u001b[0m\u001b[0;34m\u001b[0m\u001b[0;34m\u001b[0m\u001b[0m\n\u001b[1;32m   1359\u001b[0m       \u001b[0;32melse\u001b[0m\u001b[0;34m:\u001b[0m\u001b[0;34m\u001b[0m\u001b[0;34m\u001b[0m\u001b[0m\n\u001b[0;32m-> 1360\u001b[0;31m         \u001b[0;32mraise\u001b[0m \u001b[0msix\u001b[0m\u001b[0;34m.\u001b[0m\u001b[0mreraise\u001b[0m\u001b[0;34m(\u001b[0m\u001b[0;34m*\u001b[0m\u001b[0moriginal_exc_info\u001b[0m\u001b[0;34m)\u001b[0m\u001b[0;34m\u001b[0m\u001b[0;34m\u001b[0m\u001b[0m\n\u001b[0m\u001b[1;32m   1361\u001b[0m \u001b[0;34m\u001b[0m\u001b[0m\n\u001b[1;32m   1362\u001b[0m \u001b[0;34m\u001b[0m\u001b[0m\n",
      "\u001b[0;32m~/anaconda3/envs/gns/lib/python3.7/site-packages/six.py\u001b[0m in \u001b[0;36mreraise\u001b[0;34m(tp, value, tb)\u001b[0m\n\u001b[1;32m    717\u001b[0m             \u001b[0;32mif\u001b[0m \u001b[0mvalue\u001b[0m\u001b[0;34m.\u001b[0m\u001b[0m__traceback__\u001b[0m \u001b[0;32mis\u001b[0m \u001b[0;32mnot\u001b[0m \u001b[0mtb\u001b[0m\u001b[0;34m:\u001b[0m\u001b[0;34m\u001b[0m\u001b[0;34m\u001b[0m\u001b[0m\n\u001b[1;32m    718\u001b[0m                 \u001b[0;32mraise\u001b[0m \u001b[0mvalue\u001b[0m\u001b[0;34m.\u001b[0m\u001b[0mwith_traceback\u001b[0m\u001b[0;34m(\u001b[0m\u001b[0mtb\u001b[0m\u001b[0;34m)\u001b[0m\u001b[0;34m\u001b[0m\u001b[0;34m\u001b[0m\u001b[0m\n\u001b[0;32m--> 719\u001b[0;31m             \u001b[0;32mraise\u001b[0m \u001b[0mvalue\u001b[0m\u001b[0;34m\u001b[0m\u001b[0;34m\u001b[0m\u001b[0m\n\u001b[0m\u001b[1;32m    720\u001b[0m         \u001b[0;32mfinally\u001b[0m\u001b[0;34m:\u001b[0m\u001b[0;34m\u001b[0m\u001b[0;34m\u001b[0m\u001b[0m\n\u001b[1;32m    721\u001b[0m             \u001b[0mvalue\u001b[0m \u001b[0;34m=\u001b[0m \u001b[0;32mNone\u001b[0m\u001b[0;34m\u001b[0m\u001b[0;34m\u001b[0m\u001b[0m\n",
      "\u001b[0;32m~/anaconda3/envs/gns/lib/python3.7/site-packages/tensorflow_core/python/training/monitored_session.py\u001b[0m in \u001b[0;36mrun\u001b[0;34m(self, *args, **kwargs)\u001b[0m\n\u001b[1;32m   1343\u001b[0m   \u001b[0;32mdef\u001b[0m \u001b[0mrun\u001b[0m\u001b[0;34m(\u001b[0m\u001b[0mself\u001b[0m\u001b[0;34m,\u001b[0m \u001b[0;34m*\u001b[0m\u001b[0margs\u001b[0m\u001b[0;34m,\u001b[0m \u001b[0;34m**\u001b[0m\u001b[0mkwargs\u001b[0m\u001b[0;34m)\u001b[0m\u001b[0;34m:\u001b[0m\u001b[0;34m\u001b[0m\u001b[0;34m\u001b[0m\u001b[0m\n\u001b[1;32m   1344\u001b[0m     \u001b[0;32mtry\u001b[0m\u001b[0;34m:\u001b[0m\u001b[0;34m\u001b[0m\u001b[0;34m\u001b[0m\u001b[0m\n\u001b[0;32m-> 1345\u001b[0;31m       \u001b[0;32mreturn\u001b[0m \u001b[0mself\u001b[0m\u001b[0;34m.\u001b[0m\u001b[0m_sess\u001b[0m\u001b[0;34m.\u001b[0m\u001b[0mrun\u001b[0m\u001b[0;34m(\u001b[0m\u001b[0;34m*\u001b[0m\u001b[0margs\u001b[0m\u001b[0;34m,\u001b[0m \u001b[0;34m**\u001b[0m\u001b[0mkwargs\u001b[0m\u001b[0;34m)\u001b[0m\u001b[0;34m\u001b[0m\u001b[0;34m\u001b[0m\u001b[0m\n\u001b[0m\u001b[1;32m   1346\u001b[0m     \u001b[0;32mexcept\u001b[0m \u001b[0m_PREEMPTION_ERRORS\u001b[0m\u001b[0;34m:\u001b[0m\u001b[0;34m\u001b[0m\u001b[0;34m\u001b[0m\u001b[0m\n\u001b[1;32m   1347\u001b[0m       \u001b[0;32mraise\u001b[0m\u001b[0;34m\u001b[0m\u001b[0;34m\u001b[0m\u001b[0m\n",
      "\u001b[0;32m~/anaconda3/envs/gns/lib/python3.7/site-packages/tensorflow_core/python/training/monitored_session.py\u001b[0m in \u001b[0;36mrun\u001b[0;34m(self, fetches, feed_dict, options, run_metadata)\u001b[0m\n\u001b[1;32m   1416\u001b[0m         \u001b[0mfeed_dict\u001b[0m\u001b[0;34m=\u001b[0m\u001b[0mfeed_dict\u001b[0m\u001b[0;34m,\u001b[0m\u001b[0;34m\u001b[0m\u001b[0;34m\u001b[0m\u001b[0m\n\u001b[1;32m   1417\u001b[0m         \u001b[0moptions\u001b[0m\u001b[0;34m=\u001b[0m\u001b[0moptions\u001b[0m\u001b[0;34m,\u001b[0m\u001b[0;34m\u001b[0m\u001b[0;34m\u001b[0m\u001b[0m\n\u001b[0;32m-> 1418\u001b[0;31m         run_metadata=run_metadata)\n\u001b[0m\u001b[1;32m   1419\u001b[0m \u001b[0;34m\u001b[0m\u001b[0m\n\u001b[1;32m   1420\u001b[0m     \u001b[0;32mfor\u001b[0m \u001b[0mhook\u001b[0m \u001b[0;32min\u001b[0m \u001b[0mself\u001b[0m\u001b[0;34m.\u001b[0m\u001b[0m_hooks\u001b[0m\u001b[0;34m:\u001b[0m\u001b[0;34m\u001b[0m\u001b[0;34m\u001b[0m\u001b[0m\n",
      "\u001b[0;32m~/anaconda3/envs/gns/lib/python3.7/site-packages/tensorflow_core/python/training/monitored_session.py\u001b[0m in \u001b[0;36mrun\u001b[0;34m(self, *args, **kwargs)\u001b[0m\n\u001b[1;32m   1174\u001b[0m \u001b[0;34m\u001b[0m\u001b[0m\n\u001b[1;32m   1175\u001b[0m   \u001b[0;32mdef\u001b[0m \u001b[0mrun\u001b[0m\u001b[0;34m(\u001b[0m\u001b[0mself\u001b[0m\u001b[0;34m,\u001b[0m \u001b[0;34m*\u001b[0m\u001b[0margs\u001b[0m\u001b[0;34m,\u001b[0m \u001b[0;34m**\u001b[0m\u001b[0mkwargs\u001b[0m\u001b[0;34m)\u001b[0m\u001b[0;34m:\u001b[0m\u001b[0;34m\u001b[0m\u001b[0;34m\u001b[0m\u001b[0m\n\u001b[0;32m-> 1176\u001b[0;31m     \u001b[0;32mreturn\u001b[0m \u001b[0mself\u001b[0m\u001b[0;34m.\u001b[0m\u001b[0m_sess\u001b[0m\u001b[0;34m.\u001b[0m\u001b[0mrun\u001b[0m\u001b[0;34m(\u001b[0m\u001b[0;34m*\u001b[0m\u001b[0margs\u001b[0m\u001b[0;34m,\u001b[0m \u001b[0;34m**\u001b[0m\u001b[0mkwargs\u001b[0m\u001b[0;34m)\u001b[0m\u001b[0;34m\u001b[0m\u001b[0;34m\u001b[0m\u001b[0m\n\u001b[0m\u001b[1;32m   1177\u001b[0m \u001b[0;34m\u001b[0m\u001b[0m\n\u001b[1;32m   1178\u001b[0m   \u001b[0;32mdef\u001b[0m \u001b[0mrun_step_fn\u001b[0m\u001b[0;34m(\u001b[0m\u001b[0mself\u001b[0m\u001b[0;34m,\u001b[0m \u001b[0mstep_fn\u001b[0m\u001b[0;34m,\u001b[0m \u001b[0mraw_session\u001b[0m\u001b[0;34m,\u001b[0m \u001b[0mrun_with_hooks\u001b[0m\u001b[0;34m)\u001b[0m\u001b[0;34m:\u001b[0m\u001b[0;34m\u001b[0m\u001b[0;34m\u001b[0m\u001b[0m\n",
      "\u001b[0;32m~/anaconda3/envs/gns/lib/python3.7/site-packages/tensorflow_core/python/client/session.py\u001b[0m in \u001b[0;36mrun\u001b[0;34m(self, fetches, feed_dict, options, run_metadata)\u001b[0m\n\u001b[1;32m    954\u001b[0m     \u001b[0;32mtry\u001b[0m\u001b[0;34m:\u001b[0m\u001b[0;34m\u001b[0m\u001b[0;34m\u001b[0m\u001b[0m\n\u001b[1;32m    955\u001b[0m       result = self._run(None, fetches, feed_dict, options_ptr,\n\u001b[0;32m--> 956\u001b[0;31m                          run_metadata_ptr)\n\u001b[0m\u001b[1;32m    957\u001b[0m       \u001b[0;32mif\u001b[0m \u001b[0mrun_metadata\u001b[0m\u001b[0;34m:\u001b[0m\u001b[0;34m\u001b[0m\u001b[0;34m\u001b[0m\u001b[0m\n\u001b[1;32m    958\u001b[0m         \u001b[0mproto_data\u001b[0m \u001b[0;34m=\u001b[0m \u001b[0mtf_session\u001b[0m\u001b[0;34m.\u001b[0m\u001b[0mTF_GetBuffer\u001b[0m\u001b[0;34m(\u001b[0m\u001b[0mrun_metadata_ptr\u001b[0m\u001b[0;34m)\u001b[0m\u001b[0;34m\u001b[0m\u001b[0;34m\u001b[0m\u001b[0m\n",
      "\u001b[0;32m~/anaconda3/envs/gns/lib/python3.7/site-packages/tensorflow_core/python/client/session.py\u001b[0m in \u001b[0;36m_run\u001b[0;34m(self, handle, fetches, feed_dict, options, run_metadata)\u001b[0m\n\u001b[1;32m   1178\u001b[0m     \u001b[0;32mif\u001b[0m \u001b[0mfinal_fetches\u001b[0m \u001b[0;32mor\u001b[0m \u001b[0mfinal_targets\u001b[0m \u001b[0;32mor\u001b[0m \u001b[0;34m(\u001b[0m\u001b[0mhandle\u001b[0m \u001b[0;32mand\u001b[0m \u001b[0mfeed_dict_tensor\u001b[0m\u001b[0;34m)\u001b[0m\u001b[0;34m:\u001b[0m\u001b[0;34m\u001b[0m\u001b[0;34m\u001b[0m\u001b[0m\n\u001b[1;32m   1179\u001b[0m       results = self._do_run(handle, final_targets, final_fetches,\n\u001b[0;32m-> 1180\u001b[0;31m                              feed_dict_tensor, options, run_metadata)\n\u001b[0m\u001b[1;32m   1181\u001b[0m     \u001b[0;32melse\u001b[0m\u001b[0;34m:\u001b[0m\u001b[0;34m\u001b[0m\u001b[0;34m\u001b[0m\u001b[0m\n\u001b[1;32m   1182\u001b[0m       \u001b[0mresults\u001b[0m \u001b[0;34m=\u001b[0m \u001b[0;34m[\u001b[0m\u001b[0;34m]\u001b[0m\u001b[0;34m\u001b[0m\u001b[0;34m\u001b[0m\u001b[0m\n",
      "\u001b[0;32m~/anaconda3/envs/gns/lib/python3.7/site-packages/tensorflow_core/python/client/session.py\u001b[0m in \u001b[0;36m_do_run\u001b[0;34m(self, handle, target_list, fetch_list, feed_dict, options, run_metadata)\u001b[0m\n\u001b[1;32m   1357\u001b[0m     \u001b[0;32mif\u001b[0m \u001b[0mhandle\u001b[0m \u001b[0;32mis\u001b[0m \u001b[0;32mNone\u001b[0m\u001b[0;34m:\u001b[0m\u001b[0;34m\u001b[0m\u001b[0;34m\u001b[0m\u001b[0m\n\u001b[1;32m   1358\u001b[0m       return self._do_call(_run_fn, feeds, fetches, targets, options,\n\u001b[0;32m-> 1359\u001b[0;31m                            run_metadata)\n\u001b[0m\u001b[1;32m   1360\u001b[0m     \u001b[0;32melse\u001b[0m\u001b[0;34m:\u001b[0m\u001b[0;34m\u001b[0m\u001b[0;34m\u001b[0m\u001b[0m\n\u001b[1;32m   1361\u001b[0m       \u001b[0;32mreturn\u001b[0m \u001b[0mself\u001b[0m\u001b[0;34m.\u001b[0m\u001b[0m_do_call\u001b[0m\u001b[0;34m(\u001b[0m\u001b[0m_prun_fn\u001b[0m\u001b[0;34m,\u001b[0m \u001b[0mhandle\u001b[0m\u001b[0;34m,\u001b[0m \u001b[0mfeeds\u001b[0m\u001b[0;34m,\u001b[0m \u001b[0mfetches\u001b[0m\u001b[0;34m)\u001b[0m\u001b[0;34m\u001b[0m\u001b[0;34m\u001b[0m\u001b[0m\n",
      "\u001b[0;32m~/anaconda3/envs/gns/lib/python3.7/site-packages/tensorflow_core/python/client/session.py\u001b[0m in \u001b[0;36m_do_call\u001b[0;34m(self, fn, *args)\u001b[0m\n\u001b[1;32m   1382\u001b[0m                     \u001b[0;34m'\\nsession_config.graph_options.rewrite_options.'\u001b[0m\u001b[0;34m\u001b[0m\u001b[0;34m\u001b[0m\u001b[0m\n\u001b[1;32m   1383\u001b[0m                     'disable_meta_optimizer = True')\n\u001b[0;32m-> 1384\u001b[0;31m       \u001b[0;32mraise\u001b[0m \u001b[0mtype\u001b[0m\u001b[0;34m(\u001b[0m\u001b[0me\u001b[0m\u001b[0;34m)\u001b[0m\u001b[0;34m(\u001b[0m\u001b[0mnode_def\u001b[0m\u001b[0;34m,\u001b[0m \u001b[0mop\u001b[0m\u001b[0;34m,\u001b[0m \u001b[0mmessage\u001b[0m\u001b[0;34m)\u001b[0m\u001b[0;34m\u001b[0m\u001b[0;34m\u001b[0m\u001b[0m\n\u001b[0m\u001b[1;32m   1385\u001b[0m \u001b[0;34m\u001b[0m\u001b[0m\n\u001b[1;32m   1386\u001b[0m   \u001b[0;32mdef\u001b[0m \u001b[0m_extend_graph\u001b[0m\u001b[0;34m(\u001b[0m\u001b[0mself\u001b[0m\u001b[0;34m)\u001b[0m\u001b[0;34m:\u001b[0m\u001b[0;34m\u001b[0m\u001b[0;34m\u001b[0m\u001b[0m\n",
      "\u001b[0;31mInternalError\u001b[0m: 2 root error(s) found.\n  (0) Internal: Blas GEMM launch failed : a.shape=(915, 36), b.shape=(36, 128), m=915, n=128, k=36\n\t [[node LearnedSimulator_1/EncodeProcessDecode/graph_independent/node_model/sequential/mlp/linear_0/MatMul (defined at home/winchenbach/anaconda3/envs/gns/lib/python3.7/site-packages/tensorflow_core/python/framework/ops.py:1748) ]]\n  (1) Internal: Blas GEMM launch failed : a.shape=(915, 36), b.shape=(36, 128), m=915, n=128, k=36\n\t [[node LearnedSimulator_1/EncodeProcessDecode/graph_independent/node_model/sequential/mlp/linear_0/MatMul (defined at home/winchenbach/anaconda3/envs/gns/lib/python3.7/site-packages/tensorflow_core/python/framework/ops.py:1748) ]]\n\t [[LearnedSimulator_1/add_2/_759]]\n0 successful operations.\n0 derived errors ignored.\n\nOriginal stack trace for 'LearnedSimulator_1/EncodeProcessDecode/graph_independent/node_model/sequential/mlp/linear_0/MatMul':\n  File \"home/winchenbach/anaconda3/envs/gns/lib/python3.7/runpy.py\", line 193, in _run_module_as_main\n    \"__main__\", mod_spec)\n  File \"home/winchenbach/anaconda3/envs/gns/lib/python3.7/runpy.py\", line 85, in _run_code\n    exec(code, run_globals)\n  File \"home/winchenbach/anaconda3/envs/gns/lib/python3.7/site-packages/ipykernel_launcher.py\", line 17, in <module>\n    app.launch_new_instance()\n  File \"home/winchenbach/anaconda3/envs/gns/lib/python3.7/site-packages/traitlets/config/application.py\", line 992, in launch_instance\n    app.start()\n  File \"home/winchenbach/anaconda3/envs/gns/lib/python3.7/site-packages/ipykernel/kernelapp.py\", line 712, in start\n    self.io_loop.start()\n  File \"home/winchenbach/anaconda3/envs/gns/lib/python3.7/site-packages/tornado/platform/asyncio.py\", line 215, in start\n    self.asyncio_loop.run_forever()\n  File \"home/winchenbach/anaconda3/envs/gns/lib/python3.7/asyncio/base_events.py\", line 541, in run_forever\n    self._run_once()\n  File \"home/winchenbach/anaconda3/envs/gns/lib/python3.7/asyncio/base_events.py\", line 1786, in _run_once\n    handle._run()\n  File \"home/winchenbach/anaconda3/envs/gns/lib/python3.7/asyncio/events.py\", line 88, in _run\n    self._context.run(self._callback, *self._args)\n  File \"home/winchenbach/anaconda3/envs/gns/lib/python3.7/site-packages/ipykernel/kernelbase.py\", line 510, in dispatch_queue\n    await self.process_one()\n  File \"home/winchenbach/anaconda3/envs/gns/lib/python3.7/site-packages/ipykernel/kernelbase.py\", line 499, in process_one\n    await dispatch(*args)\n  File \"home/winchenbach/anaconda3/envs/gns/lib/python3.7/site-packages/ipykernel/kernelbase.py\", line 406, in dispatch_shell\n    await result\n  File \"home/winchenbach/anaconda3/envs/gns/lib/python3.7/site-packages/ipykernel/kernelbase.py\", line 730, in execute_request\n    reply_content = await reply_content\n  File \"home/winchenbach/anaconda3/envs/gns/lib/python3.7/site-packages/ipykernel/ipkernel.py\", line 390, in do_execute\n    res = shell.run_cell(code, store_history=store_history, silent=silent)\n  File \"home/winchenbach/anaconda3/envs/gns/lib/python3.7/site-packages/ipykernel/zmqshell.py\", line 528, in run_cell\n    return super().run_cell(*args, **kwargs)\n  File \"home/winchenbach/anaconda3/envs/gns/lib/python3.7/site-packages/IPython/core/interactiveshell.py\", line 2915, in run_cell\n    raw_cell, store_history, silent, shell_futures)\n  File \"home/winchenbach/anaconda3/envs/gns/lib/python3.7/site-packages/IPython/core/interactiveshell.py\", line 2960, in _run_cell\n    return runner(coro)\n  File \"home/winchenbach/anaconda3/envs/gns/lib/python3.7/site-packages/IPython/core/async_helpers.py\", line 78, in _pseudo_sync_runner\n    coro.send(None)\n  File \"home/winchenbach/anaconda3/envs/gns/lib/python3.7/site-packages/IPython/core/interactiveshell.py\", line 3186, in run_cell_async\n    interactivity=interactivity, compiler=compiler, result=result)\n  File \"home/winchenbach/anaconda3/envs/gns/lib/python3.7/site-packages/IPython/core/interactiveshell.py\", line 3377, in run_ast_nodes\n    if (await self.run_code(code, result,  async_=asy)):\n  File \"home/winchenbach/anaconda3/envs/gns/lib/python3.7/site-packages/IPython/core/interactiveshell.py\", line 3457, in run_code\n    exec(code_obj, self.user_global_ns, self.user_ns)\n  File \"tmp/ipykernel_1287210/3240816096.py\", line 5, in <module>\n    particle_types)\n  File \"home/winchenbach/anaconda3/envs/gns/lib/python3.7/site-packages/sonnet/python/modules/base.py\", line 398, in __call__\n    return self._call(*args, **kwargs)\n  File \"home/winchenbach/anaconda3/envs/gns/lib/python3.7/site-packages/sonnet/python/modules/base.py\", line 420, in _call\n    outputs, subgraph_name_scope = self._template(*args, **kwargs)\n  File \"home/winchenbach/anaconda3/envs/gns/lib/python3.7/site-packages/tensorflow_core/python/ops/template.py\", line 385, in __call__\n    return self._call_func(args, kwargs)\n  File \"home/winchenbach/anaconda3/envs/gns/lib/python3.7/site-packages/tensorflow_core/python/ops/template.py\", line 355, in _call_func\n    result = self._func(*args, **kwargs)\n  File \"home/winchenbach/anaconda3/envs/gns/lib/python3.7/site-packages/sonnet/python/modules/base.py\", line 228, in _build_wrapper\n    output = self._build(*args, **kwargs)\n  File \"home/winchenbach/dev/deepmind-research/learning_to_simulate/learned_simulator.py\", line 107, in _build\n    normalized_acceleration = self._graph_network(input_graphs_tuple)\n  File \"home/winchenbach/anaconda3/envs/gns/lib/python3.7/site-packages/sonnet/python/modules/base.py\", line 398, in __call__\n    return self._call(*args, **kwargs)\n  File \"home/winchenbach/anaconda3/envs/gns/lib/python3.7/site-packages/sonnet/python/modules/base.py\", line 420, in _call\n    outputs, subgraph_name_scope = self._template(*args, **kwargs)\n  File \"home/winchenbach/anaconda3/envs/gns/lib/python3.7/site-packages/tensorflow_core/python/ops/template.py\", line 385, in __call__\n    return self._call_func(args, kwargs)\n  File \"home/winchenbach/anaconda3/envs/gns/lib/python3.7/site-packages/tensorflow_core/python/ops/template.py\", line 355, in _call_func\n    result = self._func(*args, **kwargs)\n  File \"home/winchenbach/anaconda3/envs/gns/lib/python3.7/site-packages/sonnet/python/modules/base.py\", line 228, in _build_wrapper\n    output = self._build(*args, **kwargs)\n  File \"home/winchenbach/dev/deepmind-research/learning_to_simulate/graph_network.py\", line 93, in _build\n    latent_graph_0 = self._encode(input_graph)\n  File \"home/winchenbach/dev/deepmind-research/learning_to_simulate/graph_network.py\", line 147, in _encode\n    latent_graph_0 = self._encoder_network(input_graph)\n  File \"home/winchenbach/anaconda3/envs/gns/lib/python3.7/site-packages/sonnet/python/modules/base.py\", line 398, in __call__\n    return self._call(*args, **kwargs)\n  File \"home/winchenbach/anaconda3/envs/gns/lib/python3.7/site-packages/sonnet/python/modules/base.py\", line 420, in _call\n    outputs, subgraph_name_scope = self._template(*args, **kwargs)\n  File \"home/winchenbach/anaconda3/envs/gns/lib/python3.7/site-packages/tensorflow_core/python/ops/template.py\", line 385, in __call__\n    return self._call_func(args, kwargs)\n  File \"home/winchenbach/anaconda3/envs/gns/lib/python3.7/site-packages/tensorflow_core/python/ops/template.py\", line 355, in _call_func\n    result = self._func(*args, **kwargs)\n  File \"home/winchenbach/anaconda3/envs/gns/lib/python3.7/site-packages/sonnet/python/modules/base.py\", line 228, in _build_wrapper\n    output = self._build(*args, **kwargs)\n  File \"home/winchenbach/anaconda3/envs/gns/lib/python3.7/site-packages/graph_nets/modules.py\", line 367, in _build\n    nodes=self._node_model(graph.nodes),\n  File \"home/winchenbach/anaconda3/envs/gns/lib/python3.7/site-packages/sonnet/python/modules/base.py\", line 398, in __call__\n    return self._call(*args, **kwargs)\n  File \"home/winchenbach/anaconda3/envs/gns/lib/python3.7/site-packages/sonnet/python/modules/base.py\", line 420, in _call\n    outputs, subgraph_name_scope = self._template(*args, **kwargs)\n  File \"home/winchenbach/anaconda3/envs/gns/lib/python3.7/site-packages/tensorflow_core/python/ops/template.py\", line 385, in __call__\n    return self._call_func(args, kwargs)\n  File \"home/winchenbach/anaconda3/envs/gns/lib/python3.7/site-packages/tensorflow_core/python/ops/template.py\", line 355, in _call_func\n    result = self._func(*args, **kwargs)\n  File \"home/winchenbach/anaconda3/envs/gns/lib/python3.7/site-packages/sonnet/python/modules/base.py\", line 228, in _build_wrapper\n    output = self._build(*args, **kwargs)\n  File \"home/winchenbach/anaconda3/envs/gns/lib/python3.7/site-packages/graph_nets/_base.py\", line 112, in _build\n    return self._model(*args, **kwargs)\n  File \"home/winchenbach/anaconda3/envs/gns/lib/python3.7/site-packages/sonnet/python/modules/base.py\", line 398, in __call__\n    return self._call(*args, **kwargs)\n  File \"home/winchenbach/anaconda3/envs/gns/lib/python3.7/site-packages/sonnet/python/modules/base.py\", line 420, in _call\n    outputs, subgraph_name_scope = self._template(*args, **kwargs)\n  File \"home/winchenbach/anaconda3/envs/gns/lib/python3.7/site-packages/tensorflow_core/python/ops/template.py\", line 385, in __call__\n    return self._call_func(args, kwargs)\n  File \"home/winchenbach/anaconda3/envs/gns/lib/python3.7/site-packages/tensorflow_core/python/ops/template.py\", line 355, in _call_func\n    result = self._func(*args, **kwargs)\n  File \"home/winchenbach/anaconda3/envs/gns/lib/python3.7/site-packages/sonnet/python/modules/base.py\", line 228, in _build_wrapper\n    output = self._build(*args, **kwargs)\n  File \"home/winchenbach/anaconda3/envs/gns/lib/python3.7/site-packages/sonnet/python/modules/sequential.py\", line 103, in _build\n    net = layer(*net)\n  File \"home/winchenbach/anaconda3/envs/gns/lib/python3.7/site-packages/sonnet/python/modules/base.py\", line 398, in __call__\n    return self._call(*args, **kwargs)\n  File \"home/winchenbach/anaconda3/envs/gns/lib/python3.7/site-packages/sonnet/python/modules/base.py\", line 420, in _call\n    outputs, subgraph_name_scope = self._template(*args, **kwargs)\n  File \"home/winchenbach/anaconda3/envs/gns/lib/python3.7/site-packages/tensorflow_core/python/ops/template.py\", line 385, in __call__\n    return self._call_func(args, kwargs)\n  File \"home/winchenbach/anaconda3/envs/gns/lib/python3.7/site-packages/tensorflow_core/python/ops/template.py\", line 355, in _call_func\n    result = self._func(*args, **kwargs)\n  File \"home/winchenbach/anaconda3/envs/gns/lib/python3.7/site-packages/sonnet/python/modules/base.py\", line 228, in _build_wrapper\n    output = self._build(*args, **kwargs)\n  File \"home/winchenbach/anaconda3/envs/gns/lib/python3.7/site-packages/sonnet/python/modules/nets/mlp.py\", line 167, in _build\n    net = self._layers[layer_id](net)\n  File \"home/winchenbach/anaconda3/envs/gns/lib/python3.7/site-packages/sonnet/python/modules/base.py\", line 398, in __call__\n    return self._call(*args, **kwargs)\n  File \"home/winchenbach/anaconda3/envs/gns/lib/python3.7/site-packages/sonnet/python/modules/base.py\", line 420, in _call\n    outputs, subgraph_name_scope = self._template(*args, **kwargs)\n  File \"home/winchenbach/anaconda3/envs/gns/lib/python3.7/site-packages/tensorflow_core/python/ops/template.py\", line 385, in __call__\n    return self._call_func(args, kwargs)\n  File \"home/winchenbach/anaconda3/envs/gns/lib/python3.7/site-packages/tensorflow_core/python/ops/template.py\", line 355, in _call_func\n    result = self._func(*args, **kwargs)\n  File \"home/winchenbach/anaconda3/envs/gns/lib/python3.7/site-packages/sonnet/python/modules/base.py\", line 228, in _build_wrapper\n    output = self._build(*args, **kwargs)\n  File \"home/winchenbach/anaconda3/envs/gns/lib/python3.7/site-packages/sonnet/python/modules/basic.py\", line 284, in _build\n    outputs = tf.matmul(inputs, self._w)\n  File \"home/winchenbach/anaconda3/envs/gns/lib/python3.7/site-packages/tensorflow_core/python/util/dispatch.py\", line 180, in wrapper\n    return target(*args, **kwargs)\n  File \"home/winchenbach/anaconda3/envs/gns/lib/python3.7/site-packages/tensorflow_core/python/ops/math_ops.py\", line 2754, in matmul\n    a, b, transpose_a=transpose_a, transpose_b=transpose_b, name=name)\n  File \"home/winchenbach/anaconda3/envs/gns/lib/python3.7/site-packages/tensorflow_core/python/ops/gen_math_ops.py\", line 6136, in mat_mul\n    name=name)\n  File \"home/winchenbach/anaconda3/envs/gns/lib/python3.7/site-packages/tensorflow_core/python/framework/op_def_library.py\", line 794, in _apply_op_helper\n    op_def=op_def)\n  File \"home/winchenbach/anaconda3/envs/gns/lib/python3.7/site-packages/tensorflow_core/python/util/deprecation.py\", line 507, in new_func\n    return func(*args, **kwargs)\n  File \"home/winchenbach/anaconda3/envs/gns/lib/python3.7/site-packages/tensorflow_core/python/framework/ops.py\", line 3357, in create_op\n    attrs, op_def, compute_device)\n  File \"home/winchenbach/anaconda3/envs/gns/lib/python3.7/site-packages/tensorflow_core/python/framework/ops.py\", line 3426, in _create_op_internal\n    op_def=op_def)\n  File \"home/winchenbach/anaconda3/envs/gns/lib/python3.7/site-packages/tensorflow_core/python/framework/ops.py\", line 1748, in __init__\n    self._traceback = tf_stack.extract_stack()\n"
     ]
    }
   ],
   "source": [
    "\n",
    "  with tf.train.SingularMonitoredSession() as sess:\n",
    "    sess.run([predicted_next_position,\n",
    "              predicted_normalized_acceleration,\n",
    "              target_normalized_acceleration])\n"
   ]
  },
  {
   "cell_type": "code",
   "execution_count": null,
   "id": "7c64e37c",
   "metadata": {},
   "outputs": [],
   "source": []
  }
 ],
 "metadata": {
  "kernelspec": {
   "display_name": "gns",
   "language": "python",
   "name": "gns"
  },
  "language_info": {
   "codemirror_mode": {
    "name": "ipython",
    "version": 3
   },
   "file_extension": ".py",
   "mimetype": "text/x-python",
   "name": "python",
   "nbconvert_exporter": "python",
   "pygments_lexer": "ipython3",
   "version": "3.7.16"
  }
 },
 "nbformat": 4,
 "nbformat_minor": 5
}
