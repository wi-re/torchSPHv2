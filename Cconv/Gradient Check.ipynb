{
 "cells": [
  {
   "cell_type": "code",
   "execution_count": 1,
   "id": "74f371e2",
   "metadata": {},
   "outputs": [],
   "source": [
    "import time\n",
    "import torch\n",
    "from torch_geometric.loader import DataLoader\n",
    "from tqdm import trange, tqdm\n",
    "import argparse\n",
    "import yaml\n",
    "from torch_geometric.nn import radius\n",
    "from torch.optim import Adam\n",
    "import torch.autograd.profiler as profiler\n",
    "from torch.profiler import profile, record_function, ProfilerActivity\n",
    "\n",
    "from rbfConv import RbfConv\n",
    "from dataset import compressedFluidDataset, prepareData\n",
    "\n",
    "import inspect\n",
    "import re\n",
    "def debugPrint(x):\n",
    "    frame = inspect.currentframe().f_back\n",
    "    s = inspect.getframeinfo(frame).code_context[0]\n",
    "    r = re.search(r\"\\((.*)\\)\", s).group(1)\n",
    "    print(\"{} [{}] = {}\".format(r,type(x).__name__, x))\n",
    "\n",
    "\n",
    "import tomli\n",
    "from scipy.optimize import minimize\n",
    "import matplotlib.pyplot as plt\n",
    "import matplotlib.patches as patches\n",
    "from mpl_toolkits.axes_grid1 import make_axes_locatable\n",
    "from matplotlib.colors import LogNorm\n",
    "from matplotlib.ticker import MaxNLocator\n",
    "import matplotlib.ticker as mticker\n",
    "\n",
    "from cutlass import *\n",
    "from rbfConv import *\n",
    "from tqdm.notebook import tqdm"
   ]
  },
  {
   "cell_type": "code",
   "execution_count": 7,
   "id": "a4e50817",
   "metadata": {},
   "outputs": [],
   "source": [
    "nx = 2\n",
    "ny = 4\n",
    "fin = 6\n",
    "fout = 8\n",
    "\n",
    "ni = 16\n",
    "nj = 8\n",
    "\n",
    "support = 0.25\n",
    "\n",
    "d = 2\n",
    "\n",
    "positions_i = torch.rand((ni,d)).type(torch.float64)#fluidPositions[:128,:]\n",
    "positions_j = torch.rand((nj,d)).type(torch.float64)#fluidPositions[:64,:]\n",
    "\n",
    "fluidFeatures_i = torch.rand((positions_i.shape[0], fin)).type(torch.float64)\n",
    "fluidFeatures_j = torch.rand((positions_j.shape[0], fin)).type(torch.float64)\n",
    "fluidFeatures_i.requires_grad = False\n",
    "fluidFeatures_j.requires_grad = False\n",
    "\n",
    "fi, fj = radius(positions_j, positions_i, support, max_num_neighbors = 256, batch_x = None, batch_y = None)\n",
    "\n",
    "fluidEdgeIndex = torch.stack([fi, fj], dim = 0)\n",
    "fluidEdgeLengths = (positions_j[fluidEdgeIndex[1]] - positions_i[fluidEdgeIndex[0]])/support\n",
    "\n",
    "# weight = Parameter(torch.Tensor(nx,ny, fin, fout))\n",
    "if d==1:\n",
    "    weight = Parameter(torch.Tensor(nx, fin, fout))\n",
    "else:\n",
    "    weight = Parameter(torch.Tensor(nx,ny, fin, fout))\n",
    "torch.nn.init.xavier_normal_(weight);\n",
    "\n",
    "# with torch.no_grad():\n",
    "#     weight[:,:,:,:] = 1\n",
    "\n",
    "# debugPrint(fluidFeatures)\n",
    "#         debugPrint(torch.min(fluidEdgeLengths))\n",
    "\n",
    "convolution = cutlass.apply\n",
    "\n",
    "# out = convolution(fluidEdgeIndex, fluidFeatures, fluidEdgeLengths, None, weight, \n",
    "#                                             fluidFeatures.shape[0], 0,\n",
    "#                                         [nx, ny] , ['linear', 'linear'], [False, False], \n",
    "#                                         1,1)\n",
    "\n",
    "# debugPrint(out)\n",
    "\n",
    "\n",
    "\n",
    "\n",
    "# globalNumerical, globalAnalytical = None, None\n",
    "\n",
    "# gradcheck(convOp, weight.type(torch.float64))\n",
    "\n",
    "windowFn = lambda r: torch.ones_like(r) * 2# torch.clamp(torch.pow(1. - r, 4) * (1.0 + 4.0 * r), min = 0)\n",
    "windowFn = lambda r:torch.clamp(torch.pow(1. - r, 4) * (1.0 + 4.0 * r), min = 0)\n"
   ]
  },
  {
   "cell_type": "code",
   "execution_count": 8,
   "id": "4648048e",
   "metadata": {},
   "outputs": [
    {
     "name": "stdout",
     "output_type": "stream",
     "text": [
      "fi.shape [Size] = torch.Size([20])\n"
     ]
    }
   ],
   "source": [
    "debugPrint(fi.shape)"
   ]
  },
  {
   "cell_type": "code",
   "execution_count": 9,
   "id": "b199ba62",
   "metadata": {},
   "outputs": [],
   "source": [
    "from gradcheck import *"
   ]
  },
  {
   "cell_type": "code",
   "execution_count": 10,
   "id": "cf1c44a2",
   "metadata": {},
   "outputs": [],
   "source": [
    "weight.requires_grad = False\n",
    "fluidFeatures_i.requires_grad = False\n",
    "fluidFeatures_j.requires_grad = False"
   ]
  },
  {
   "cell_type": "code",
   "execution_count": 11,
   "id": "3afffb3f",
   "metadata": {},
   "outputs": [
    {
     "name": "stdout",
     "output_type": "stream",
     "text": [
      "torch.max(fluidEdgeIndex[0]) [Tensor] = 14\n",
      "torch.max(fluidEdgeIndex[1]) [Tensor] = 7\n",
      "result.dtype [dtype] = torch.float64\n",
      "result.shape [Size] = torch.Size([16, 8])\n",
      "gradcheck(convOp, fluidFeatures_j.type(torch.float64)) [bool] = True\n",
      "gradcheck(convOp, fluidFeatures_j.type(torch.float64)) [bool] = True\n"
     ]
    }
   ],
   "source": [
    "if d ==2:\n",
    "    convOp = lambda x: convolution(fluidEdgeIndex, fluidFeatures_i, x, fluidEdgeLengths.type(torch.float64), windowFn(torch.linalg.norm(fluidEdgeLengths,dim=1).type(torch.float64)), weight.type(torch.float64), \n",
    "                                                fluidFeatures_i.shape[0], 0,\n",
    "                                            [nx, ny] , ['linear', 'linear'], [False, False], \n",
    "                                            1,1)\n",
    "else:\n",
    "    convOp = lambda x: convolution(fluidEdgeIndex, fluidFeatures_i, x, fluidEdgeLengths.type(torch.float64), windowFn(torch.linalg.norm(fluidEdgeLengths,dim=1).type(torch.float64)), weight.type(torch.float64), \n",
    "                                            fluidFeatures_i.shape[0], 0,\n",
    "                                        [nx] , ['linear'], [False], \n",
    "                                        1,1)\n",
    "debugPrint(torch.max(fluidEdgeIndex[0]))\n",
    "debugPrint(torch.max(fluidEdgeIndex[1]))\n",
    "\n",
    "result = convOp(fluidFeatures_j.type(torch.float64))\n",
    "# debugPrint(result)\n",
    "debugPrint(result.dtype)\n",
    "debugPrint(result.shape)\n",
    "\n",
    "weight.requires_grad = False\n",
    "fluidFeatures_i.requires_grad = False\n",
    "fluidFeatures_j.requires_grad = True\n",
    "\n",
    "debugPrint(gradcheck(convOp, fluidFeatures_j.type(torch.float64)))\n",
    "\n",
    "weight.requires_grad = True\n",
    "fluidFeatures_i.requires_grad = False\n",
    "fluidFeatures_j.requires_grad = True\n",
    "\n",
    "debugPrint(gradcheck(convOp, fluidFeatures_j.type(torch.float64)))"
   ]
  },
  {
   "cell_type": "code",
   "execution_count": 12,
   "id": "544d7e50",
   "metadata": {},
   "outputs": [
    {
     "name": "stdout",
     "output_type": "stream",
     "text": [
      "gradcheck(convOp, weight.type(torch.float64)) [bool] = True\n",
      "gradcheck(convOp, weight.type(torch.float64)) [bool] = True\n"
     ]
    }
   ],
   "source": [
    "if d == 2:\n",
    "    convOp = lambda x: convolution(fluidEdgeIndex, fluidFeatures_i.type(torch.float64), fluidFeatures_j, fluidEdgeLengths.type(torch.float64), None, x, \n",
    "                                            fluidFeatures_i.shape[0], 0,\n",
    "                                        [nx, ny] , ['linear', 'linear'], [False, False], \n",
    "                                        1,1)\n",
    "else:\n",
    "    convOp = lambda x: convolution(fluidEdgeIndex, fluidFeatures_i.type(torch.float64), fluidFeatures_j, fluidEdgeLengths.type(torch.float64), None, x, \n",
    "                                            fluidFeatures_i.shape[0], 0,\n",
    "                                        [nx] , ['linear'], [False], \n",
    "                                        1,1)\n",
    "    \n",
    "gradcheck(convOp, weight.type(torch.float64))\n",
    "\n",
    "weight.requires_grad = True\n",
    "fluidFeatures_i.requires_grad = False\n",
    "fluidFeatures_j.requires_grad = False\n",
    "\n",
    "debugPrint(gradcheck(convOp, weight.type(torch.float64)))\n",
    "\n",
    "weight.requires_grad = True\n",
    "fluidFeatures_i.requires_grad = False\n",
    "fluidFeatures_j.requires_grad = True\n",
    "\n",
    "debugPrint(gradcheck(convOp, weight.type(torch.float64)))"
   ]
  },
  {
   "cell_type": "code",
   "execution_count": 13,
   "id": "862a556a",
   "metadata": {},
   "outputs": [],
   "source": [
    "\n",
    "from gradcheck import globalNumerical, globalAnalytical"
   ]
  },
  {
   "cell_type": "code",
   "execution_count": 14,
   "id": "a3d6d71d",
   "metadata": {},
   "outputs": [
    {
     "ename": "TypeError",
     "evalue": "Image data of dtype object cannot be converted to float",
     "output_type": "error",
     "traceback": [
      "\u001b[0;31m---------------------------------------------------------------------------\u001b[0m",
      "\u001b[0;31mTypeError\u001b[0m                                 Traceback (most recent call last)",
      "Input \u001b[0;32mIn [14]\u001b[0m, in \u001b[0;36m<cell line: 5>\u001b[0;34m()\u001b[0m\n\u001b[1;32m      2\u001b[0m fig, axis \u001b[38;5;241m=\u001b[39m plt\u001b[38;5;241m.\u001b[39msubplots(\u001b[38;5;241m1\u001b[39m, \u001b[38;5;241m3\u001b[39m, figsize\u001b[38;5;241m=\u001b[39m(\u001b[38;5;241m12\u001b[39m,\u001b[38;5;241m4\u001b[39m), sharex \u001b[38;5;241m=\u001b[39m \u001b[38;5;28;01mFalse\u001b[39;00m, sharey \u001b[38;5;241m=\u001b[39m \u001b[38;5;28;01mFalse\u001b[39;00m, squeeze \u001b[38;5;241m=\u001b[39m \u001b[38;5;28;01mFalse\u001b[39;00m)\n\u001b[1;32m      4\u001b[0m axis[\u001b[38;5;241m0\u001b[39m,\u001b[38;5;241m0\u001b[39m]\u001b[38;5;241m.\u001b[39mset_title(\u001b[38;5;124m'\u001b[39m\u001b[38;5;124mNumerical\u001b[39m\u001b[38;5;124m'\u001b[39m)\n\u001b[0;32m----> 5\u001b[0m im \u001b[38;5;241m=\u001b[39m \u001b[43maxis\u001b[49m\u001b[43m[\u001b[49m\u001b[38;5;241;43m0\u001b[39;49m\u001b[43m,\u001b[49m\u001b[38;5;241;43m0\u001b[39;49m\u001b[43m]\u001b[49m\u001b[38;5;241;43m.\u001b[39;49m\u001b[43mimshow\u001b[49m\u001b[43m(\u001b[49m\u001b[43mglobalNumerical\u001b[49m\u001b[43m)\u001b[49m\n\u001b[1;32m      6\u001b[0m ax1_divider \u001b[38;5;241m=\u001b[39m make_axes_locatable(axis[\u001b[38;5;241m0\u001b[39m,\u001b[38;5;241m0\u001b[39m])\n\u001b[1;32m      7\u001b[0m axis[\u001b[38;5;241m0\u001b[39m,\u001b[38;5;241m0\u001b[39m]\u001b[38;5;241m.\u001b[39maxis(\u001b[38;5;124m'\u001b[39m\u001b[38;5;124mauto\u001b[39m\u001b[38;5;124m'\u001b[39m)\n",
      "File \u001b[0;32m~/anaconda3/envs/torch_env/lib/python3.9/site-packages/matplotlib/_api/deprecation.py:454\u001b[0m, in \u001b[0;36mmake_keyword_only.<locals>.wrapper\u001b[0;34m(*args, **kwargs)\u001b[0m\n\u001b[1;32m    448\u001b[0m \u001b[38;5;28;01mif\u001b[39;00m \u001b[38;5;28mlen\u001b[39m(args) \u001b[38;5;241m>\u001b[39m name_idx:\n\u001b[1;32m    449\u001b[0m     warn_deprecated(\n\u001b[1;32m    450\u001b[0m         since, message\u001b[38;5;241m=\u001b[39m\u001b[38;5;124m\"\u001b[39m\u001b[38;5;124mPassing the \u001b[39m\u001b[38;5;132;01m%(name)s\u001b[39;00m\u001b[38;5;124m \u001b[39m\u001b[38;5;132;01m%(obj_type)s\u001b[39;00m\u001b[38;5;124m \u001b[39m\u001b[38;5;124m\"\u001b[39m\n\u001b[1;32m    451\u001b[0m         \u001b[38;5;124m\"\u001b[39m\u001b[38;5;124mpositionally is deprecated since Matplotlib \u001b[39m\u001b[38;5;132;01m%(since)s\u001b[39;00m\u001b[38;5;124m; the \u001b[39m\u001b[38;5;124m\"\u001b[39m\n\u001b[1;32m    452\u001b[0m         \u001b[38;5;124m\"\u001b[39m\u001b[38;5;124mparameter will become keyword-only \u001b[39m\u001b[38;5;132;01m%(removal)s\u001b[39;00m\u001b[38;5;124m.\u001b[39m\u001b[38;5;124m\"\u001b[39m,\n\u001b[1;32m    453\u001b[0m         name\u001b[38;5;241m=\u001b[39mname, obj_type\u001b[38;5;241m=\u001b[39m\u001b[38;5;124mf\u001b[39m\u001b[38;5;124m\"\u001b[39m\u001b[38;5;124mparameter of \u001b[39m\u001b[38;5;132;01m{\u001b[39;00mfunc\u001b[38;5;241m.\u001b[39m\u001b[38;5;18m__name__\u001b[39m\u001b[38;5;132;01m}\u001b[39;00m\u001b[38;5;124m()\u001b[39m\u001b[38;5;124m\"\u001b[39m)\n\u001b[0;32m--> 454\u001b[0m \u001b[38;5;28;01mreturn\u001b[39;00m \u001b[43mfunc\u001b[49m\u001b[43m(\u001b[49m\u001b[38;5;241;43m*\u001b[39;49m\u001b[43margs\u001b[49m\u001b[43m,\u001b[49m\u001b[43m \u001b[49m\u001b[38;5;241;43m*\u001b[39;49m\u001b[38;5;241;43m*\u001b[39;49m\u001b[43mkwargs\u001b[49m\u001b[43m)\u001b[49m\n",
      "File \u001b[0;32m~/anaconda3/envs/torch_env/lib/python3.9/site-packages/matplotlib/__init__.py:1423\u001b[0m, in \u001b[0;36m_preprocess_data.<locals>.inner\u001b[0;34m(ax, data, *args, **kwargs)\u001b[0m\n\u001b[1;32m   1420\u001b[0m \u001b[38;5;129m@functools\u001b[39m\u001b[38;5;241m.\u001b[39mwraps(func)\n\u001b[1;32m   1421\u001b[0m \u001b[38;5;28;01mdef\u001b[39;00m \u001b[38;5;21minner\u001b[39m(ax, \u001b[38;5;241m*\u001b[39margs, data\u001b[38;5;241m=\u001b[39m\u001b[38;5;28;01mNone\u001b[39;00m, \u001b[38;5;241m*\u001b[39m\u001b[38;5;241m*\u001b[39mkwargs):\n\u001b[1;32m   1422\u001b[0m     \u001b[38;5;28;01mif\u001b[39;00m data \u001b[38;5;129;01mis\u001b[39;00m \u001b[38;5;28;01mNone\u001b[39;00m:\n\u001b[0;32m-> 1423\u001b[0m         \u001b[38;5;28;01mreturn\u001b[39;00m \u001b[43mfunc\u001b[49m\u001b[43m(\u001b[49m\u001b[43max\u001b[49m\u001b[43m,\u001b[49m\u001b[43m \u001b[49m\u001b[38;5;241;43m*\u001b[39;49m\u001b[38;5;28;43mmap\u001b[39;49m\u001b[43m(\u001b[49m\u001b[43msanitize_sequence\u001b[49m\u001b[43m,\u001b[49m\u001b[43m \u001b[49m\u001b[43margs\u001b[49m\u001b[43m)\u001b[49m\u001b[43m,\u001b[49m\u001b[43m \u001b[49m\u001b[38;5;241;43m*\u001b[39;49m\u001b[38;5;241;43m*\u001b[39;49m\u001b[43mkwargs\u001b[49m\u001b[43m)\u001b[49m\n\u001b[1;32m   1425\u001b[0m     bound \u001b[38;5;241m=\u001b[39m new_sig\u001b[38;5;241m.\u001b[39mbind(ax, \u001b[38;5;241m*\u001b[39margs, \u001b[38;5;241m*\u001b[39m\u001b[38;5;241m*\u001b[39mkwargs)\n\u001b[1;32m   1426\u001b[0m     auto_label \u001b[38;5;241m=\u001b[39m (bound\u001b[38;5;241m.\u001b[39marguments\u001b[38;5;241m.\u001b[39mget(label_namer)\n\u001b[1;32m   1427\u001b[0m                   \u001b[38;5;129;01mor\u001b[39;00m bound\u001b[38;5;241m.\u001b[39mkwargs\u001b[38;5;241m.\u001b[39mget(label_namer))\n",
      "File \u001b[0;32m~/anaconda3/envs/torch_env/lib/python3.9/site-packages/matplotlib/axes/_axes.py:5572\u001b[0m, in \u001b[0;36mAxes.imshow\u001b[0;34m(self, X, cmap, norm, aspect, interpolation, alpha, vmin, vmax, origin, extent, interpolation_stage, filternorm, filterrad, resample, url, **kwargs)\u001b[0m\n\u001b[1;32m   5564\u001b[0m \u001b[38;5;28mself\u001b[39m\u001b[38;5;241m.\u001b[39mset_aspect(aspect)\n\u001b[1;32m   5565\u001b[0m im \u001b[38;5;241m=\u001b[39m mimage\u001b[38;5;241m.\u001b[39mAxesImage(\u001b[38;5;28mself\u001b[39m, cmap\u001b[38;5;241m=\u001b[39mcmap, norm\u001b[38;5;241m=\u001b[39mnorm,\n\u001b[1;32m   5566\u001b[0m                       interpolation\u001b[38;5;241m=\u001b[39minterpolation, origin\u001b[38;5;241m=\u001b[39morigin,\n\u001b[1;32m   5567\u001b[0m                       extent\u001b[38;5;241m=\u001b[39mextent, filternorm\u001b[38;5;241m=\u001b[39mfilternorm,\n\u001b[1;32m   5568\u001b[0m                       filterrad\u001b[38;5;241m=\u001b[39mfilterrad, resample\u001b[38;5;241m=\u001b[39mresample,\n\u001b[1;32m   5569\u001b[0m                       interpolation_stage\u001b[38;5;241m=\u001b[39minterpolation_stage,\n\u001b[1;32m   5570\u001b[0m                       \u001b[38;5;241m*\u001b[39m\u001b[38;5;241m*\u001b[39mkwargs)\n\u001b[0;32m-> 5572\u001b[0m \u001b[43mim\u001b[49m\u001b[38;5;241;43m.\u001b[39;49m\u001b[43mset_data\u001b[49m\u001b[43m(\u001b[49m\u001b[43mX\u001b[49m\u001b[43m)\u001b[49m\n\u001b[1;32m   5573\u001b[0m im\u001b[38;5;241m.\u001b[39mset_alpha(alpha)\n\u001b[1;32m   5574\u001b[0m \u001b[38;5;28;01mif\u001b[39;00m im\u001b[38;5;241m.\u001b[39mget_clip_path() \u001b[38;5;129;01mis\u001b[39;00m \u001b[38;5;28;01mNone\u001b[39;00m:\n\u001b[1;32m   5575\u001b[0m     \u001b[38;5;66;03m# image does not already have clipping set, clip to axes patch\u001b[39;00m\n",
      "File \u001b[0;32m~/anaconda3/envs/torch_env/lib/python3.9/site-packages/matplotlib/image.py:701\u001b[0m, in \u001b[0;36m_ImageBase.set_data\u001b[0;34m(self, A)\u001b[0m\n\u001b[1;32m    697\u001b[0m \u001b[38;5;28mself\u001b[39m\u001b[38;5;241m.\u001b[39m_A \u001b[38;5;241m=\u001b[39m cbook\u001b[38;5;241m.\u001b[39msafe_masked_invalid(A, copy\u001b[38;5;241m=\u001b[39m\u001b[38;5;28;01mTrue\u001b[39;00m)\n\u001b[1;32m    699\u001b[0m \u001b[38;5;28;01mif\u001b[39;00m (\u001b[38;5;28mself\u001b[39m\u001b[38;5;241m.\u001b[39m_A\u001b[38;5;241m.\u001b[39mdtype \u001b[38;5;241m!=\u001b[39m np\u001b[38;5;241m.\u001b[39muint8 \u001b[38;5;129;01mand\u001b[39;00m\n\u001b[1;32m    700\u001b[0m         \u001b[38;5;129;01mnot\u001b[39;00m np\u001b[38;5;241m.\u001b[39mcan_cast(\u001b[38;5;28mself\u001b[39m\u001b[38;5;241m.\u001b[39m_A\u001b[38;5;241m.\u001b[39mdtype, \u001b[38;5;28mfloat\u001b[39m, \u001b[38;5;124m\"\u001b[39m\u001b[38;5;124msame_kind\u001b[39m\u001b[38;5;124m\"\u001b[39m)):\n\u001b[0;32m--> 701\u001b[0m     \u001b[38;5;28;01mraise\u001b[39;00m \u001b[38;5;167;01mTypeError\u001b[39;00m(\u001b[38;5;124m\"\u001b[39m\u001b[38;5;124mImage data of dtype \u001b[39m\u001b[38;5;132;01m{}\u001b[39;00m\u001b[38;5;124m cannot be converted to \u001b[39m\u001b[38;5;124m\"\u001b[39m\n\u001b[1;32m    702\u001b[0m                     \u001b[38;5;124m\"\u001b[39m\u001b[38;5;124mfloat\u001b[39m\u001b[38;5;124m\"\u001b[39m\u001b[38;5;241m.\u001b[39mformat(\u001b[38;5;28mself\u001b[39m\u001b[38;5;241m.\u001b[39m_A\u001b[38;5;241m.\u001b[39mdtype))\n\u001b[1;32m    704\u001b[0m \u001b[38;5;28;01mif\u001b[39;00m \u001b[38;5;28mself\u001b[39m\u001b[38;5;241m.\u001b[39m_A\u001b[38;5;241m.\u001b[39mndim \u001b[38;5;241m==\u001b[39m \u001b[38;5;241m3\u001b[39m \u001b[38;5;129;01mand\u001b[39;00m \u001b[38;5;28mself\u001b[39m\u001b[38;5;241m.\u001b[39m_A\u001b[38;5;241m.\u001b[39mshape[\u001b[38;5;241m-\u001b[39m\u001b[38;5;241m1\u001b[39m] \u001b[38;5;241m==\u001b[39m \u001b[38;5;241m1\u001b[39m:\n\u001b[1;32m    705\u001b[0m     \u001b[38;5;66;03m# If just one dimension assume scalar and apply colormap\u001b[39;00m\n\u001b[1;32m    706\u001b[0m     \u001b[38;5;28mself\u001b[39m\u001b[38;5;241m.\u001b[39m_A \u001b[38;5;241m=\u001b[39m \u001b[38;5;28mself\u001b[39m\u001b[38;5;241m.\u001b[39m_A[:, :, \u001b[38;5;241m0\u001b[39m]\n",
      "\u001b[0;31mTypeError\u001b[0m: Image data of dtype object cannot be converted to float"
     ]
    },
    {
     "data": {
      "image/png": "[encoded data removed]",
      "text/plain": [
       "<Figure size 864x288 with 3 Axes>"
      ]
     },
     "metadata": {
      "needs_background": "light"
     },
     "output_type": "display_data"
    }
   ],
   "source": [
    "# This is only possible if there was an error\n",
    "fig, axis = plt.subplots(1, 3, figsize=(12,4), sharex = False, sharey = False, squeeze = False)\n",
    "\n",
    "axis[0,0].set_title('Numerical')\n",
    "im = axis[0,0].imshow(globalNumerical)\n",
    "ax1_divider = make_axes_locatable(axis[0,0])\n",
    "axis[0,0].axis('auto')\n",
    "cax1 = ax1_divider.append_axes(\"right\", size=\"7%\", pad=\"2%\")\n",
    "numCbar = fig.colorbar(im, cax=cax1,orientation='vertical')\n",
    "numCbar.ax.tick_params(labelsize=8) \n",
    "\n",
    "axis[0,1].set_title('Analytical')\n",
    "im = axis[0,1].imshow(globalAnalytical)\n",
    "ax1_divider = make_axes_locatable(axis[0,1])\n",
    "axis[0,1].axis('auto')\n",
    "cax1 = ax1_divider.append_axes(\"right\", size=\"7%\", pad=\"2%\")\n",
    "numCbar = fig.colorbar(im, cax=cax1,orientation='vertical')\n",
    "numCbar.ax.tick_params(labelsize=8) \n",
    "\n",
    "axis[0,2].set_title('Difference')\n",
    "im = axis[0,2].imshow(globalNumerical - globalAnalytical)\n",
    "ax1_divider = make_axes_locatable(axis[0,2])\n",
    "axis[0,2].axis('auto')\n",
    "cax1 = ax1_divider.append_axes(\"right\", size=\"7%\", pad=\"2%\")\n",
    "numCbar = fig.colorbar(im, cax=cax1,orientation='vertical')\n",
    "numCbar.ax.tick_params(labelsize=8) \n",
    "\n",
    "fig.tight_layout()\n"
   ]
  },
  {
   "cell_type": "code",
   "execution_count": null,
   "id": "82374f08",
   "metadata": {},
   "outputs": [],
   "source": []
  }
 ],
 "metadata": {
  "kernelspec": {
   "display_name": "torch_env",
   "language": "python",
   "name": "torch_env"
  },
  "language_info": {
   "codemirror_mode": {
    "name": "ipython",
    "version": 3
   },
   "file_extension": ".py",
   "mimetype": "text/x-python",
   "name": "python",
   "nbconvert_exporter": "python",
   "pygments_lexer": "ipython3",
   "version": "3.9.13"
  }
 },
 "nbformat": 4,
 "nbformat_minor": 5
}
