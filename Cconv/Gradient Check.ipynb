{
 "cells": [
  {
   "cell_type": "code",
   "execution_count": 1,
   "id": "74f371e2",
   "metadata": {},
   "outputs": [],
   "source": [
    "import time\n",
    "import torch\n",
    "from torch_geometric.loader import DataLoader\n",
    "from tqdm import trange, tqdm\n",
    "import argparse\n",
    "import yaml\n",
    "from torch_geometric.nn import radius\n",
    "from torch.optim import Adam\n",
    "import torch.autograd.profiler as profiler\n",
    "from torch.profiler import profile, record_function, ProfilerActivity\n",
    "\n",
    "from rbfConv import RbfConv\n",
    "from dataset import compressedFluidDataset, prepareData\n",
    "\n",
    "import inspect\n",
    "import re\n",
    "def debugPrint(x):\n",
    "    frame = inspect.currentframe().f_back\n",
    "    s = inspect.getframeinfo(frame).code_context[0]\n",
    "    r = re.search(r\"\\((.*)\\)\", s).group(1)\n",
    "    print(\"{} [{}] = {}\".format(r,type(x).__name__, x))\n",
    "\n",
    "\n",
    "import tomli\n",
    "from scipy.optimize import minimize\n",
    "import matplotlib.pyplot as plt\n",
    "import matplotlib.patches as patches\n",
    "from mpl_toolkits.axes_grid1 import make_axes_locatable\n",
    "from matplotlib.colors import LogNorm\n",
    "from matplotlib.ticker import MaxNLocator\n",
    "import matplotlib.ticker as mticker\n",
    "\n",
    "from cutlass import *\n",
    "from rbfConv import *\n",
    "from tqdm.notebook import tqdm"
   ]
  },
  {
   "cell_type": "code",
   "execution_count": 2,
   "id": "a4e50817",
   "metadata": {},
   "outputs": [],
   "source": [
    "nx = 2\n",
    "ny = 4\n",
    "fin = 6\n",
    "fout = 8\n",
    "\n",
    "ni = 16\n",
    "nj = 8\n",
    "\n",
    "support = 0.25\n",
    "\n",
    "positions_i = torch.rand((ni,2)).type(torch.float64)#fluidPositions[:128,:]\n",
    "positions_j = torch.rand((nj,2)).type(torch.float64)#fluidPositions[:64,:]\n",
    "\n",
    "fluidFeatures_i = torch.rand((positions_i.shape[0], fin)).type(torch.float64)\n",
    "fluidFeatures_j = torch.rand((positions_j.shape[0], fin)).type(torch.float64)\n",
    "fluidFeatures_i.requires_grad = False\n",
    "fluidFeatures_j.requires_grad = False\n",
    "\n",
    "fi, fj = radius(positions_j, positions_i, support, max_num_neighbors = 256, batch_x = None, batch_y = None)\n",
    "\n",
    "fluidEdgeIndex = torch.stack([fi, fj], dim = 0)\n",
    "fluidEdgeLengths = (positions_j[fluidEdgeIndex[1]] - positions_i[fluidEdgeIndex[0]])/support\n",
    "\n",
    "weight = Parameter(torch.Tensor(nx,ny, fin, fout))\n",
    "torch.nn.init.xavier_normal_(weight);\n",
    "# with torch.no_grad():\n",
    "#     weight[:,:,:,:] = 1\n",
    "\n",
    "# debugPrint(fluidFeatures)\n",
    "#         debugPrint(torch.min(fluidEdgeLengths))\n",
    "\n",
    "convolution = cutlass.apply\n",
    "\n",
    "# out = convolution(fluidEdgeIndex, fluidFeatures, fluidEdgeLengths, None, weight, \n",
    "#                                             fluidFeatures.shape[0], 0,\n",
    "#                                         [nx, ny] , ['linear', 'linear'], [False, False], \n",
    "#                                         1,1)\n",
    "\n",
    "# debugPrint(out)\n",
    "\n",
    "\n",
    "\n",
    "\n",
    "# globalNumerical, globalAnalytical = None, None\n",
    "\n",
    "# gradcheck(convOp, weight.type(torch.float64))\n",
    "\n",
    "windowFn = lambda r: torch.ones_like(r) * 2# torch.clamp(torch.pow(1. - r, 4) * (1.0 + 4.0 * r), min = 0)\n",
    "windowFn = lambda r:torch.clamp(torch.pow(1. - r, 4) * (1.0 + 4.0 * r), min = 0)\n"
   ]
  },
  {
   "cell_type": "code",
   "execution_count": 3,
   "id": "4648048e",
   "metadata": {},
   "outputs": [
    {
     "name": "stdout",
     "output_type": "stream",
     "text": [
      "fi.shape [Size] = torch.Size([19])\n"
     ]
    }
   ],
   "source": [
    "debugPrint(fi.shape)"
   ]
  },
  {
   "cell_type": "code",
   "execution_count": 4,
   "id": "b199ba62",
   "metadata": {},
   "outputs": [],
   "source": [
    "from gradcheck import *"
   ]
  },
  {
   "cell_type": "code",
   "execution_count": 5,
   "id": "cf1c44a2",
   "metadata": {},
   "outputs": [],
   "source": [
    "weight.requires_grad = False\n",
    "fluidFeatures_i.requires_grad = False\n",
    "fluidFeatures_j.requires_grad = False"
   ]
  },
  {
   "cell_type": "code",
   "execution_count": 6,
   "id": "3afffb3f",
   "metadata": {},
   "outputs": [
    {
     "name": "stdout",
     "output_type": "stream",
     "text": [
      "torch.max(fluidEdgeIndex[0]) [Tensor] = 15\n",
      "torch.max(fluidEdgeIndex[1]) [Tensor] = 7\n",
      "result.dtype [dtype] = torch.float64\n",
      "result.shape [Size] = torch.Size([16, 8])\n",
      "gradcheck(convOp, fluidFeatures_j.type(torch.float64)) [bool] = True\n",
      "gradcheck(convOp, fluidFeatures_j.type(torch.float64)) [bool] = True\n"
     ]
    }
   ],
   "source": [
    "convOp = lambda x: convolution(fluidEdgeIndex, fluidFeatures_i, x, fluidEdgeLengths.type(torch.float64), windowFn(torch.linalg.norm(fluidEdgeLengths,dim=1).type(torch.float64)), weight.type(torch.float64), \n",
    "                                            fluidFeatures_i.shape[0], 0,\n",
    "                                        [nx, ny] , ['linear', 'linear'], [False, False], \n",
    "                                        1,1)\n",
    "\n",
    "debugPrint(torch.max(fluidEdgeIndex[0]))\n",
    "debugPrint(torch.max(fluidEdgeIndex[1]))\n",
    "\n",
    "result = convOp(fluidFeatures_j.type(torch.float64))\n",
    "# debugPrint(result)\n",
    "debugPrint(result.dtype)\n",
    "debugPrint(result.shape)\n",
    "\n",
    "weight.requires_grad = False\n",
    "fluidFeatures_i.requires_grad = False\n",
    "fluidFeatures_j.requires_grad = True\n",
    "\n",
    "debugPrint(gradcheck(convOp, fluidFeatures_j.type(torch.float64)))\n",
    "\n",
    "weight.requires_grad = True\n",
    "fluidFeatures_i.requires_grad = False\n",
    "fluidFeatures_j.requires_grad = True\n",
    "\n",
    "debugPrint(gradcheck(convOp, fluidFeatures_j.type(torch.float64)))"
   ]
  },
  {
   "cell_type": "code",
   "execution_count": 7,
   "id": "544d7e50",
   "metadata": {},
   "outputs": [
    {
     "name": "stdout",
     "output_type": "stream",
     "text": [
      "gradcheck(convOp, weight.type(torch.float64)) [bool] = True\n",
      "gradcheck(convOp, weight.type(torch.float64)) [bool] = True\n"
     ]
    }
   ],
   "source": [
    "\n",
    "convOp = lambda x: convolution(fluidEdgeIndex, fluidFeatures_i.type(torch.float64), fluidFeatures_j, fluidEdgeLengths.type(torch.float64), None, x, \n",
    "                                            fluidFeatures_i.shape[0], 0,\n",
    "                                        [nx, ny] , ['linear', 'linear'], [False, False], \n",
    "                                        1,1)\n",
    "\n",
    "gradcheck(convOp, weight.type(torch.float64))\n",
    "\n",
    "weight.requires_grad = True\n",
    "fluidFeatures_i.requires_grad = False\n",
    "fluidFeatures_j.requires_grad = False\n",
    "\n",
    "debugPrint(gradcheck(convOp, weight.type(torch.float64)))\n",
    "\n",
    "weight.requires_grad = True\n",
    "fluidFeatures_i.requires_grad = False\n",
    "fluidFeatures_j.requires_grad = True\n",
    "\n",
    "debugPrint(gradcheck(convOp, weight.type(torch.float64)))"
   ]
  },
  {
   "cell_type": "code",
   "execution_count": 8,
   "id": "862a556a",
   "metadata": {},
   "outputs": [],
   "source": [
    "\n",
    "from gradcheck import globalNumerical, globalAnalytical"
   ]
  },
  {
   "cell_type": "code",
   "execution_count": 37,
   "id": "a3d6d71d",
   "metadata": {},
   "outputs": [
    {
     "data": {
      "image/png": "[encoded data removed]",
      "text/plain": [
       "<Figure size 864x288 with 6 Axes>"
      ]
     },
     "metadata": {
      "needs_background": "light"
     },
     "output_type": "display_data"
    }
   ],
   "source": [
    "# This is only possible if there was an error\n",
    "fig, axis = plt.subplots(1, 3, figsize=(12,4), sharex = False, sharey = False, squeeze = False)\n",
    "\n",
    "axis[0,0].set_title('Numerical')\n",
    "im = axis[0,0].imshow(globalNumerical)\n",
    "ax1_divider = make_axes_locatable(axis[0,0])\n",
    "axis[0,0].axis('auto')\n",
    "cax1 = ax1_divider.append_axes(\"right\", size=\"7%\", pad=\"2%\")\n",
    "numCbar = fig.colorbar(im, cax=cax1,orientation='vertical')\n",
    "numCbar.ax.tick_params(labelsize=8) \n",
    "\n",
    "axis[0,1].set_title('Analytical')\n",
    "im = axis[0,1].imshow(globalAnalytical)\n",
    "ax1_divider = make_axes_locatable(axis[0,1])\n",
    "axis[0,1].axis('auto')\n",
    "cax1 = ax1_divider.append_axes(\"right\", size=\"7%\", pad=\"2%\")\n",
    "numCbar = fig.colorbar(im, cax=cax1,orientation='vertical')\n",
    "numCbar.ax.tick_params(labelsize=8) \n",
    "\n",
    "axis[0,2].set_title('Difference')\n",
    "im = axis[0,2].imshow(globalNumerical - globalAnalytical)\n",
    "ax1_divider = make_axes_locatable(axis[0,2])\n",
    "axis[0,2].axis('auto')\n",
    "cax1 = ax1_divider.append_axes(\"right\", size=\"7%\", pad=\"2%\")\n",
    "numCbar = fig.colorbar(im, cax=cax1,orientation='vertical')\n",
    "numCbar.ax.tick_params(labelsize=8) \n",
    "\n",
    "fig.tight_layout()\n"
   ]
  },
  {
   "cell_type": "code",
   "execution_count": null,
   "id": "82374f08",
   "metadata": {},
   "outputs": [],
   "source": []
  }
 ],
 "metadata": {
  "kernelspec": {
   "display_name": "torch_env",
   "language": "python",
   "name": "torch_env"
  },
  "language_info": {
   "codemirror_mode": {
    "name": "ipython",
    "version": 3
   },
   "file_extension": ".py",
   "mimetype": "text/x-python",
   "name": "python",
   "nbconvert_exporter": "python",
   "pygments_lexer": "ipython3",
   "version": "3.9.13"
  }
 },
 "nbformat": 4,
 "nbformat_minor": 5
}
